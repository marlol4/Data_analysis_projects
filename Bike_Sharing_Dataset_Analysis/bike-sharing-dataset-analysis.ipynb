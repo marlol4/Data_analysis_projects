{
 "cells": [
  {
   "cell_type": "markdown",
   "id": "fb1fd392",
   "metadata": {
    "papermill": {
     "duration": 0.010632,
     "end_time": "2023-07-11T10:34:41.020859",
     "exception": false,
     "start_time": "2023-07-11T10:34:41.010227",
     "status": "completed"
    },
    "tags": []
   },
   "source": [
    "This is the start of my capstone project for the Google analytics certificate.\n",
    "\n",
    "I will follow the 7 phases used in the certificate: **ask**, **prepare**, **process**, **analyze**, **share** and **act**.\n",
    "\n",
    "Let's start with the context provided.\n",
    "\n",
    "## Scenario\n",
    "\n",
    "You are a junior data analyst working in the marketing analyst team at Cyclistic, a bike-share company in Chicago. The director of marketing believes the company’s future success depends on maximizing the number of annual memberships. Therefore, your team wants to understand how casual riders and annual members use Cyclistic bikes differently. From these insights, your team will design a new marketing strategy to convert casual riders into annual members. But first, Cyclistic executives must approve your recommendations, so they must be backed up with compelling data insights and professional data visualizations.\n",
    "\n",
    "## Characters and teams\n",
    "\n",
    "* Cyclistic: A bike-share program that features more than 5,800 bicycles and 600 docking stations. Cyclistic sets itself apart by also offering reclining bikes, hand tricycles, and cargo bikes, making bike-share more inclusive to people with disabilities and riders who can’t use a standard two-wheeled bike. The majority of riders opt for traditional bikes; about 8% of riders use the assistive options. Cyclistic users are more likely to ride for leisure, but about 30% use them to commute to work each day.\n",
    "\n",
    "* Lily Moreno: The director of marketing and your manager. Moreno is responsible for the development of campaigns and initiatives to promote the bike-share program. These may include email, social media, and other channels.\n",
    "\n",
    "* Cyclistic marketing analytics team: A team of data analysts who are responsible for collecting, analyzing, and reporting data that helps guide Cyclistic marketing strategy. You joined this team six months ago and have been busy learning about Cyclistic’s mission and business goals — as well as how you, as a junior data analyst, can help Cyclistic achieve them.\n",
    "\n",
    "* Cyclistic executive team: The notoriously detail-oriented executive team will decide whether to approve the recommended marketing program.\n",
    "\n",
    "## About the company\n",
    "In 2016, Cyclistic launched a successful bike-share offering. Since then, the program has grown to a fleet of 5,824 bicycles that are geotracked and locked into a network of 692 stations across Chicago. The bikes can be unlocked from one station and returned to any other station in the system anytime.\n",
    "Until now, Cyclistic’s marketing strategy relied on building general awareness and appealing to broad consumer segments. One approach that helped make these things possible was the flexibility of its pricing plans: single-ride passes, full-day passes, and annual memberships. Customers who purchase single-ride or full-day passes are referred to as casual riders. Customers who purchase annual memberships are Cyclistic members.\n",
    "Cyclistic’s finance analysts have concluded that annual members are much more profitable than casual riders. Although the pricing flexibility helps Cyclistic attract more customers, Moreno believes that maximizing the number of annual members will be key to future growth. Rather than creating a marketing campaign that targets all-new customers, Moreno believes there is a very good chance to convert casual riders into members. She notes that casual riders are already aware of the Cyclistic program and have chosen Cyclistic for their mobility needs.\n",
    "Moreno has set a clear goal: Design marketing strategies aimed at converting casual riders into annual members. In order to do that, however, the marketing analyst team needs to better understand how annual members and casual riders differ, why casual riders would buy a membership, and how digital media could affect their marketing tactics. Moreno and her team are interested in analyzing the Cyclistic historical bike trip data to identify trends.\n",
    "\n",
    "## Questions\n",
    "Three questions will guide the future marketing program:\n",
    "1. How do annual members and casual riders use Cyclistic bikes differently?\n",
    "2. Why would casual riders buy Cyclistic annual memberships?\n",
    "3. How can Cyclistic use digital media to influence casual riders to become members?\n",
    "\n",
    "Moreno has assigned you the first question to answer: How do annual members and casual riders use Cyclistic bikes differently?\n",
    "You will produce a report with the following **deliverables**:\n",
    "1. A clear statement of the business task\n",
    "2. A description of all data sources used\n",
    "3. Documentation of any cleaning or manipulation of data\n",
    "4. A summary of your analysis\n",
    "5. Supporting visualizations and key findings\n",
    "6. Your top three recommendations based on your analysis\n",
    "\n",
    "# Ask\n",
    "\n",
    "### Guiding questions \n",
    "* Whats is the problem you are trying to solve?\n",
    "\n",
    "The problem I am trying to solve is to determine the differences in use of bikes between causal riders and annual members.\n",
    "* How can your insight drive business decisions?\n",
    "\n",
    "The insights from my analysis will help drive business decisions by helping the marketing team to create strategies to convert casual riders into annual members.\n",
    "\n",
    "### Key tasks\n",
    "1. Identify the business task\n",
    "\n",
    "The business task is to define the differences between casual riders and annual members with the aim to use this information to convert casual riders into annual members\n",
    "\n",
    "2. Consider key stakeholders\n",
    "\n",
    "The key stakeholders are the director of marketing and the executive team. \n",
    "\n",
    "### Deliverables\n",
    "**A clear statement of the business task.**\n",
    "\n",
    "The business task is to convert casual riders into annual members, by better understanding the differences between them.\n",
    "\n",
    "# Prepare\n",
    "\n",
    "The data that I will be using has been made available as public data by Motivate International inc. and it is avalaible for download [here](https://divvy-tripdata.s3.amazonaws.com/index.html). The data is avalible under this [license](https://ride.divvybikes.com/data-license-agreement).\n",
    "\n",
    "The dataset is composed of 12 months of data stored in 12 .csv files and has been downloaded from [this](https://www.kaggle.com/datasets/evangower/cyclistic-case-study) Kaggle dataset.\n",
    "\n",
    "I will first upload the data and store them.\n",
    "\n"
   ]
  },
  {
   "cell_type": "code",
   "execution_count": 1,
   "id": "e4b03ed4",
   "metadata": {
    "execution": {
     "iopub.execute_input": "2023-07-11T10:34:41.039162Z",
     "iopub.status.busy": "2023-07-11T10:34:41.038709Z",
     "iopub.status.idle": "2023-07-11T10:34:42.617782Z",
     "shell.execute_reply": "2023-07-11T10:34:42.616803Z"
    },
    "papermill": {
     "duration": 1.590814,
     "end_time": "2023-07-11T10:34:42.620028",
     "exception": false,
     "start_time": "2023-07-11T10:34:41.029214",
     "status": "completed"
    },
    "tags": []
   },
   "outputs": [],
   "source": [
    "import numpy as np # linear algebra\n",
    "import pandas as pd # data processing, CSV file I/O (e.g. pd.read_csv)\n",
    "import os\n",
    "import glob\n",
    "import matplotlib.pyplot as plt\n",
    "import seaborn as sns\n",
    "import geopandas as gpd\n",
    "from shapely.geometry import Point, Polygon\n",
    "\n",
    "\n",
    "sns.set_theme()"
   ]
  },
  {
   "cell_type": "code",
   "execution_count": 2,
   "id": "4ed23f03",
   "metadata": {
    "execution": {
     "iopub.execute_input": "2023-07-11T10:34:42.638226Z",
     "iopub.status.busy": "2023-07-11T10:34:42.637862Z",
     "iopub.status.idle": "2023-07-11T10:35:11.409776Z",
     "shell.execute_reply": "2023-07-11T10:35:11.408755Z"
    },
    "papermill": {
     "duration": 28.783797,
     "end_time": "2023-07-11T10:35:11.412141",
     "exception": false,
     "start_time": "2023-07-11T10:34:42.628344",
     "status": "completed"
    },
    "tags": []
   },
   "outputs": [],
   "source": [
    "#import all the files in the dataset folder\n",
    "\n",
    "path = r\"/kaggle/input/062022-052023-cyclistic-trip-data\"\n",
    "\n",
    "filenames = glob.glob(path + \"/*.csv\")\n",
    "\n",
    "datanames = [\"data_1\", \"data_2\", \"data_3\", \"data_4\", \"data_5\", \"data_6\", \"data_7\", \"data_8\",\n",
    "             \"data_9\", \"data_10\",\"data_11\", \"data_12\"]\n",
    "x=0\n",
    "dts = {}  #create a dictionary to contain the datasets\n",
    "\n",
    "for file in filenames:\n",
    "    dts[datanames[x]] = pd.read_csv(file, header = 0)\n",
    "    x+=1"
   ]
  },
  {
   "cell_type": "markdown",
   "id": "2385801c",
   "metadata": {
    "papermill": {
     "duration": 0.008007,
     "end_time": "2023-07-11T10:35:11.428522",
     "exception": false,
     "start_time": "2023-07-11T10:35:11.420515",
     "status": "completed"
    },
    "tags": []
   },
   "source": [
    "Now that the data is stored, I will do some preparatory data exploration. I will first check the columns of the first dataset (corresponding to 2022_07).\n"
   ]
  },
  {
   "cell_type": "code",
   "execution_count": 3,
   "id": "12948397",
   "metadata": {
    "execution": {
     "iopub.execute_input": "2023-07-11T10:35:11.446456Z",
     "iopub.status.busy": "2023-07-11T10:35:11.446083Z",
     "iopub.status.idle": "2023-07-11T10:35:11.455408Z",
     "shell.execute_reply": "2023-07-11T10:35:11.453741Z"
    },
    "papermill": {
     "duration": 0.022,
     "end_time": "2023-07-11T10:35:11.458625",
     "exception": false,
     "start_time": "2023-07-11T10:35:11.436625",
     "status": "completed"
    },
    "tags": []
   },
   "outputs": [
    {
     "data": {
      "text/plain": [
       "Index(['ride_id', 'rideable_type', 'started_at', 'ended_at',\n",
       "       'start_station_name', 'start_station_id', 'end_station_name',\n",
       "       'end_station_id', 'start_lat', 'start_lng', 'end_lat', 'end_lng',\n",
       "       'member_casual'],\n",
       "      dtype='object')"
      ]
     },
     "execution_count": 3,
     "metadata": {},
     "output_type": "execute_result"
    }
   ],
   "source": [
    "dts[\"data_1\"].columns"
   ]
  },
  {
   "cell_type": "markdown",
   "id": "7cb50104",
   "metadata": {
    "papermill": {
     "duration": 0.008932,
     "end_time": "2023-07-11T10:35:11.476408",
     "exception": false,
     "start_time": "2023-07-11T10:35:11.467476",
     "status": "completed"
    },
    "tags": []
   },
   "source": [
    "The data_1 dataset contains 13 columns. I can use this fact to check that all the other dataset contain the same number of columns, that are probably going to be the same columns. "
   ]
  },
  {
   "cell_type": "code",
   "execution_count": 4,
   "id": "cfa78d02",
   "metadata": {
    "execution": {
     "iopub.execute_input": "2023-07-11T10:35:11.495457Z",
     "iopub.status.busy": "2023-07-11T10:35:11.495094Z",
     "iopub.status.idle": "2023-07-11T10:35:11.500326Z",
     "shell.execute_reply": "2023-07-11T10:35:11.498933Z"
    },
    "papermill": {
     "duration": 0.01767,
     "end_time": "2023-07-11T10:35:11.502746",
     "exception": false,
     "start_time": "2023-07-11T10:35:11.485076",
     "status": "completed"
    },
    "tags": []
   },
   "outputs": [
    {
     "name": "stdout",
     "output_type": "stream",
     "text": [
      "13\n",
      "13\n",
      "13\n",
      "13\n",
      "13\n",
      "13\n",
      "13\n",
      "13\n",
      "13\n",
      "13\n",
      "13\n",
      "13\n"
     ]
    }
   ],
   "source": [
    "for key in dts:\n",
    "    print(len(dts[key].columns))"
   ]
  },
  {
   "cell_type": "markdown",
   "id": "4a235b0b",
   "metadata": {
    "papermill": {
     "duration": 0.008367,
     "end_time": "2023-07-11T10:35:11.520150",
     "exception": false,
     "start_time": "2023-07-11T10:35:11.511783",
     "status": "completed"
    },
    "tags": []
   },
   "source": [
    "All the datasets contain 13 columns. I can use the function head() to get an understanding of the dataset more in detail."
   ]
  },
  {
   "cell_type": "code",
   "execution_count": 5,
   "id": "e1fae8e6",
   "metadata": {
    "execution": {
     "iopub.execute_input": "2023-07-11T10:35:11.538896Z",
     "iopub.status.busy": "2023-07-11T10:35:11.538529Z",
     "iopub.status.idle": "2023-07-11T10:35:11.573340Z",
     "shell.execute_reply": "2023-07-11T10:35:11.571538Z"
    },
    "papermill": {
     "duration": 0.047425,
     "end_time": "2023-07-11T10:35:11.576251",
     "exception": false,
     "start_time": "2023-07-11T10:35:11.528826",
     "status": "completed"
    },
    "tags": []
   },
   "outputs": [
    {
     "data": {
      "text/html": [
       "<div>\n",
       "<style scoped>\n",
       "    .dataframe tbody tr th:only-of-type {\n",
       "        vertical-align: middle;\n",
       "    }\n",
       "\n",
       "    .dataframe tbody tr th {\n",
       "        vertical-align: top;\n",
       "    }\n",
       "\n",
       "    .dataframe thead th {\n",
       "        text-align: right;\n",
       "    }\n",
       "</style>\n",
       "<table border=\"1\" class=\"dataframe\">\n",
       "  <thead>\n",
       "    <tr style=\"text-align: right;\">\n",
       "      <th></th>\n",
       "      <th>ride_id</th>\n",
       "      <th>rideable_type</th>\n",
       "      <th>started_at</th>\n",
       "      <th>ended_at</th>\n",
       "      <th>start_station_name</th>\n",
       "      <th>start_station_id</th>\n",
       "      <th>end_station_name</th>\n",
       "      <th>end_station_id</th>\n",
       "      <th>start_lat</th>\n",
       "      <th>start_lng</th>\n",
       "      <th>end_lat</th>\n",
       "      <th>end_lng</th>\n",
       "      <th>member_casual</th>\n",
       "    </tr>\n",
       "  </thead>\n",
       "  <tbody>\n",
       "    <tr>\n",
       "      <th>0</th>\n",
       "      <td>954144C2F67B1932</td>\n",
       "      <td>classic_bike</td>\n",
       "      <td>2022-07-05 08:12:47</td>\n",
       "      <td>2022-07-05 08:24:32</td>\n",
       "      <td>Ashland Ave &amp; Blackhawk St</td>\n",
       "      <td>13224</td>\n",
       "      <td>Kingsbury St &amp; Kinzie St</td>\n",
       "      <td>KA1503000043</td>\n",
       "      <td>41.907066</td>\n",
       "      <td>-87.667252</td>\n",
       "      <td>41.889177</td>\n",
       "      <td>-87.638506</td>\n",
       "      <td>member</td>\n",
       "    </tr>\n",
       "    <tr>\n",
       "      <th>1</th>\n",
       "      <td>292E027607D218B6</td>\n",
       "      <td>classic_bike</td>\n",
       "      <td>2022-07-26 12:53:38</td>\n",
       "      <td>2022-07-26 12:55:31</td>\n",
       "      <td>Buckingham Fountain (Temp)</td>\n",
       "      <td>15541</td>\n",
       "      <td>Michigan Ave &amp; 8th St</td>\n",
       "      <td>623</td>\n",
       "      <td>41.869621</td>\n",
       "      <td>-87.623981</td>\n",
       "      <td>41.872773</td>\n",
       "      <td>-87.623981</td>\n",
       "      <td>casual</td>\n",
       "    </tr>\n",
       "    <tr>\n",
       "      <th>2</th>\n",
       "      <td>57765852588AD6E0</td>\n",
       "      <td>classic_bike</td>\n",
       "      <td>2022-07-03 13:58:49</td>\n",
       "      <td>2022-07-03 14:06:32</td>\n",
       "      <td>Buckingham Fountain (Temp)</td>\n",
       "      <td>15541</td>\n",
       "      <td>Michigan Ave &amp; 8th St</td>\n",
       "      <td>623</td>\n",
       "      <td>41.869621</td>\n",
       "      <td>-87.623981</td>\n",
       "      <td>41.872773</td>\n",
       "      <td>-87.623981</td>\n",
       "      <td>casual</td>\n",
       "    </tr>\n",
       "    <tr>\n",
       "      <th>3</th>\n",
       "      <td>B5B6BE44314590E6</td>\n",
       "      <td>classic_bike</td>\n",
       "      <td>2022-07-31 17:44:21</td>\n",
       "      <td>2022-07-31 18:42:50</td>\n",
       "      <td>Buckingham Fountain (Temp)</td>\n",
       "      <td>15541</td>\n",
       "      <td>Woodlawn Ave &amp; 55th St</td>\n",
       "      <td>TA1307000164</td>\n",
       "      <td>41.869621</td>\n",
       "      <td>-87.623981</td>\n",
       "      <td>41.795264</td>\n",
       "      <td>-87.596471</td>\n",
       "      <td>casual</td>\n",
       "    </tr>\n",
       "    <tr>\n",
       "      <th>4</th>\n",
       "      <td>A4C331F2A00E79E0</td>\n",
       "      <td>classic_bike</td>\n",
       "      <td>2022-07-13 19:49:06</td>\n",
       "      <td>2022-07-13 20:15:24</td>\n",
       "      <td>Wabash Ave &amp; Grand Ave</td>\n",
       "      <td>TA1307000117</td>\n",
       "      <td>Sheffield Ave &amp; Wellington Ave</td>\n",
       "      <td>TA1307000052</td>\n",
       "      <td>41.891466</td>\n",
       "      <td>-87.626761</td>\n",
       "      <td>41.936253</td>\n",
       "      <td>-87.652662</td>\n",
       "      <td>member</td>\n",
       "    </tr>\n",
       "  </tbody>\n",
       "</table>\n",
       "</div>"
      ],
      "text/plain": [
       "            ride_id rideable_type           started_at             ended_at  \\\n",
       "0  954144C2F67B1932  classic_bike  2022-07-05 08:12:47  2022-07-05 08:24:32   \n",
       "1  292E027607D218B6  classic_bike  2022-07-26 12:53:38  2022-07-26 12:55:31   \n",
       "2  57765852588AD6E0  classic_bike  2022-07-03 13:58:49  2022-07-03 14:06:32   \n",
       "3  B5B6BE44314590E6  classic_bike  2022-07-31 17:44:21  2022-07-31 18:42:50   \n",
       "4  A4C331F2A00E79E0  classic_bike  2022-07-13 19:49:06  2022-07-13 20:15:24   \n",
       "\n",
       "           start_station_name start_station_id  \\\n",
       "0  Ashland Ave & Blackhawk St            13224   \n",
       "1  Buckingham Fountain (Temp)            15541   \n",
       "2  Buckingham Fountain (Temp)            15541   \n",
       "3  Buckingham Fountain (Temp)            15541   \n",
       "4      Wabash Ave & Grand Ave     TA1307000117   \n",
       "\n",
       "                 end_station_name end_station_id  start_lat  start_lng  \\\n",
       "0        Kingsbury St & Kinzie St   KA1503000043  41.907066 -87.667252   \n",
       "1           Michigan Ave & 8th St            623  41.869621 -87.623981   \n",
       "2           Michigan Ave & 8th St            623  41.869621 -87.623981   \n",
       "3          Woodlawn Ave & 55th St   TA1307000164  41.869621 -87.623981   \n",
       "4  Sheffield Ave & Wellington Ave   TA1307000052  41.891466 -87.626761   \n",
       "\n",
       "     end_lat    end_lng member_casual  \n",
       "0  41.889177 -87.638506        member  \n",
       "1  41.872773 -87.623981        casual  \n",
       "2  41.872773 -87.623981        casual  \n",
       "3  41.795264 -87.596471        casual  \n",
       "4  41.936253 -87.652662        member  "
      ]
     },
     "execution_count": 5,
     "metadata": {},
     "output_type": "execute_result"
    }
   ],
   "source": [
    "dts[\"data_1\"].head()"
   ]
  },
  {
   "cell_type": "markdown",
   "id": "e70b03c5",
   "metadata": {
    "papermill": {
     "duration": 0.00861,
     "end_time": "2023-07-11T10:35:11.594125",
     "exception": false,
     "start_time": "2023-07-11T10:35:11.585515",
     "status": "completed"
    },
    "tags": []
   },
   "source": [
    "The last column, \"member_casual\", is probably going to be very important later. Probably quite important will be also the times for the trips (maybe there will be some trend for the lenght in time of the trip) and maybe also the station names (maybe some are more frequently used than others).\n",
    "\n",
    "It seems, at a first glance, that some of these information might not be very consistent. For example, I see that Buckingham Fountain (Temp) presents this (Temp) not present in other names and, more importantly, it does not look like the station ids are consistent.\n",
    "\n",
    "### Deliverable: \n",
    "\n",
    "A description of all data sources used.\n",
    "\n",
    "The data sources are 12 .csv datasets, each one referring to a single month of the year. These datasets present 13 columns containing information related to the individual bikeride.\n",
    "\n",
    "# Process\n",
    "\n",
    "Now, I will move to processing my data before my data analysis. I will focus on sorting the data, filtering them and cleaning them to ensure the best analysis possible. \n",
    "\n",
    "I will start by merging all the datasets in a single one."
   ]
  },
  {
   "cell_type": "code",
   "execution_count": 6,
   "id": "6871f5c3",
   "metadata": {
    "execution": {
     "iopub.execute_input": "2023-07-11T10:35:11.615066Z",
     "iopub.status.busy": "2023-07-11T10:35:11.614056Z",
     "iopub.status.idle": "2023-07-11T10:35:13.027340Z",
     "shell.execute_reply": "2023-07-11T10:35:13.026300Z"
    },
    "papermill": {
     "duration": 1.426552,
     "end_time": "2023-07-11T10:35:13.030262",
     "exception": false,
     "start_time": "2023-07-11T10:35:11.603710",
     "status": "completed"
    },
    "tags": []
   },
   "outputs": [],
   "source": [
    "dts = pd.concat(dts.values())"
   ]
  },
  {
   "cell_type": "code",
   "execution_count": 7,
   "id": "45518bee",
   "metadata": {
    "execution": {
     "iopub.execute_input": "2023-07-11T10:35:13.049654Z",
     "iopub.status.busy": "2023-07-11T10:35:13.049278Z",
     "iopub.status.idle": "2023-07-11T10:35:13.066631Z",
     "shell.execute_reply": "2023-07-11T10:35:13.065889Z"
    },
    "papermill": {
     "duration": 0.029057,
     "end_time": "2023-07-11T10:35:13.068372",
     "exception": false,
     "start_time": "2023-07-11T10:35:13.039315",
     "status": "completed"
    },
    "tags": []
   },
   "outputs": [
    {
     "data": {
      "text/html": [
       "<div>\n",
       "<style scoped>\n",
       "    .dataframe tbody tr th:only-of-type {\n",
       "        vertical-align: middle;\n",
       "    }\n",
       "\n",
       "    .dataframe tbody tr th {\n",
       "        vertical-align: top;\n",
       "    }\n",
       "\n",
       "    .dataframe thead th {\n",
       "        text-align: right;\n",
       "    }\n",
       "</style>\n",
       "<table border=\"1\" class=\"dataframe\">\n",
       "  <thead>\n",
       "    <tr style=\"text-align: right;\">\n",
       "      <th></th>\n",
       "      <th>ride_id</th>\n",
       "      <th>rideable_type</th>\n",
       "      <th>started_at</th>\n",
       "      <th>ended_at</th>\n",
       "      <th>start_station_name</th>\n",
       "      <th>start_station_id</th>\n",
       "      <th>end_station_name</th>\n",
       "      <th>end_station_id</th>\n",
       "      <th>start_lat</th>\n",
       "      <th>start_lng</th>\n",
       "      <th>end_lat</th>\n",
       "      <th>end_lng</th>\n",
       "      <th>member_casual</th>\n",
       "    </tr>\n",
       "  </thead>\n",
       "  <tbody>\n",
       "    <tr>\n",
       "      <th>0</th>\n",
       "      <td>954144C2F67B1932</td>\n",
       "      <td>classic_bike</td>\n",
       "      <td>2022-07-05 08:12:47</td>\n",
       "      <td>2022-07-05 08:24:32</td>\n",
       "      <td>Ashland Ave &amp; Blackhawk St</td>\n",
       "      <td>13224</td>\n",
       "      <td>Kingsbury St &amp; Kinzie St</td>\n",
       "      <td>KA1503000043</td>\n",
       "      <td>41.907066</td>\n",
       "      <td>-87.667252</td>\n",
       "      <td>41.889177</td>\n",
       "      <td>-87.638506</td>\n",
       "      <td>member</td>\n",
       "    </tr>\n",
       "    <tr>\n",
       "      <th>1</th>\n",
       "      <td>292E027607D218B6</td>\n",
       "      <td>classic_bike</td>\n",
       "      <td>2022-07-26 12:53:38</td>\n",
       "      <td>2022-07-26 12:55:31</td>\n",
       "      <td>Buckingham Fountain (Temp)</td>\n",
       "      <td>15541</td>\n",
       "      <td>Michigan Ave &amp; 8th St</td>\n",
       "      <td>623</td>\n",
       "      <td>41.869621</td>\n",
       "      <td>-87.623981</td>\n",
       "      <td>41.872773</td>\n",
       "      <td>-87.623981</td>\n",
       "      <td>casual</td>\n",
       "    </tr>\n",
       "    <tr>\n",
       "      <th>2</th>\n",
       "      <td>57765852588AD6E0</td>\n",
       "      <td>classic_bike</td>\n",
       "      <td>2022-07-03 13:58:49</td>\n",
       "      <td>2022-07-03 14:06:32</td>\n",
       "      <td>Buckingham Fountain (Temp)</td>\n",
       "      <td>15541</td>\n",
       "      <td>Michigan Ave &amp; 8th St</td>\n",
       "      <td>623</td>\n",
       "      <td>41.869621</td>\n",
       "      <td>-87.623981</td>\n",
       "      <td>41.872773</td>\n",
       "      <td>-87.623981</td>\n",
       "      <td>casual</td>\n",
       "    </tr>\n",
       "    <tr>\n",
       "      <th>3</th>\n",
       "      <td>B5B6BE44314590E6</td>\n",
       "      <td>classic_bike</td>\n",
       "      <td>2022-07-31 17:44:21</td>\n",
       "      <td>2022-07-31 18:42:50</td>\n",
       "      <td>Buckingham Fountain (Temp)</td>\n",
       "      <td>15541</td>\n",
       "      <td>Woodlawn Ave &amp; 55th St</td>\n",
       "      <td>TA1307000164</td>\n",
       "      <td>41.869621</td>\n",
       "      <td>-87.623981</td>\n",
       "      <td>41.795264</td>\n",
       "      <td>-87.596471</td>\n",
       "      <td>casual</td>\n",
       "    </tr>\n",
       "    <tr>\n",
       "      <th>4</th>\n",
       "      <td>A4C331F2A00E79E0</td>\n",
       "      <td>classic_bike</td>\n",
       "      <td>2022-07-13 19:49:06</td>\n",
       "      <td>2022-07-13 20:15:24</td>\n",
       "      <td>Wabash Ave &amp; Grand Ave</td>\n",
       "      <td>TA1307000117</td>\n",
       "      <td>Sheffield Ave &amp; Wellington Ave</td>\n",
       "      <td>TA1307000052</td>\n",
       "      <td>41.891466</td>\n",
       "      <td>-87.626761</td>\n",
       "      <td>41.936253</td>\n",
       "      <td>-87.652662</td>\n",
       "      <td>member</td>\n",
       "    </tr>\n",
       "  </tbody>\n",
       "</table>\n",
       "</div>"
      ],
      "text/plain": [
       "            ride_id rideable_type           started_at             ended_at  \\\n",
       "0  954144C2F67B1932  classic_bike  2022-07-05 08:12:47  2022-07-05 08:24:32   \n",
       "1  292E027607D218B6  classic_bike  2022-07-26 12:53:38  2022-07-26 12:55:31   \n",
       "2  57765852588AD6E0  classic_bike  2022-07-03 13:58:49  2022-07-03 14:06:32   \n",
       "3  B5B6BE44314590E6  classic_bike  2022-07-31 17:44:21  2022-07-31 18:42:50   \n",
       "4  A4C331F2A00E79E0  classic_bike  2022-07-13 19:49:06  2022-07-13 20:15:24   \n",
       "\n",
       "           start_station_name start_station_id  \\\n",
       "0  Ashland Ave & Blackhawk St            13224   \n",
       "1  Buckingham Fountain (Temp)            15541   \n",
       "2  Buckingham Fountain (Temp)            15541   \n",
       "3  Buckingham Fountain (Temp)            15541   \n",
       "4      Wabash Ave & Grand Ave     TA1307000117   \n",
       "\n",
       "                 end_station_name end_station_id  start_lat  start_lng  \\\n",
       "0        Kingsbury St & Kinzie St   KA1503000043  41.907066 -87.667252   \n",
       "1           Michigan Ave & 8th St            623  41.869621 -87.623981   \n",
       "2           Michigan Ave & 8th St            623  41.869621 -87.623981   \n",
       "3          Woodlawn Ave & 55th St   TA1307000164  41.869621 -87.623981   \n",
       "4  Sheffield Ave & Wellington Ave   TA1307000052  41.891466 -87.626761   \n",
       "\n",
       "     end_lat    end_lng member_casual  \n",
       "0  41.889177 -87.638506        member  \n",
       "1  41.872773 -87.623981        casual  \n",
       "2  41.872773 -87.623981        casual  \n",
       "3  41.795264 -87.596471        casual  \n",
       "4  41.936253 -87.652662        member  "
      ]
     },
     "execution_count": 7,
     "metadata": {},
     "output_type": "execute_result"
    }
   ],
   "source": [
    "dts.head()"
   ]
  },
  {
   "cell_type": "code",
   "execution_count": 8,
   "id": "fdd077a8",
   "metadata": {
    "execution": {
     "iopub.execute_input": "2023-07-11T10:35:13.090391Z",
     "iopub.status.busy": "2023-07-11T10:35:13.088759Z",
     "iopub.status.idle": "2023-07-11T10:35:13.117037Z",
     "shell.execute_reply": "2023-07-11T10:35:13.115378Z"
    },
    "papermill": {
     "duration": 0.041744,
     "end_time": "2023-07-11T10:35:13.119533",
     "exception": false,
     "start_time": "2023-07-11T10:35:13.077789",
     "status": "completed"
    },
    "tags": []
   },
   "outputs": [
    {
     "name": "stdout",
     "output_type": "stream",
     "text": [
      "<class 'pandas.core.frame.DataFrame'>\n",
      "Int64Index: 5829030 entries, 0 to 337734\n",
      "Data columns (total 13 columns):\n",
      " #   Column              Dtype  \n",
      "---  ------              -----  \n",
      " 0   ride_id             object \n",
      " 1   rideable_type       object \n",
      " 2   started_at          object \n",
      " 3   ended_at            object \n",
      " 4   start_station_name  object \n",
      " 5   start_station_id    object \n",
      " 6   end_station_name    object \n",
      " 7   end_station_id      object \n",
      " 8   start_lat           float64\n",
      " 9   start_lng           float64\n",
      " 10  end_lat             float64\n",
      " 11  end_lng             float64\n",
      " 12  member_casual       object \n",
      "dtypes: float64(4), object(9)\n",
      "memory usage: 622.6+ MB\n"
     ]
    }
   ],
   "source": [
    "dts.info()"
   ]
  },
  {
   "cell_type": "markdown",
   "id": "948f282b",
   "metadata": {
    "papermill": {
     "duration": 0.009014,
     "end_time": "2023-07-11T10:35:13.138171",
     "exception": false,
     "start_time": "2023-07-11T10:35:13.129157",
     "status": "completed"
    },
    "tags": []
   },
   "source": [
    "Looking at the dts.info() output, I can see that I will probably not use some columns, so I can drop them. I also think that some values are not in the correct format, so I will probably also try to solve that."
   ]
  },
  {
   "cell_type": "code",
   "execution_count": 9,
   "id": "9ddd746d",
   "metadata": {
    "execution": {
     "iopub.execute_input": "2023-07-11T10:35:13.162304Z",
     "iopub.status.busy": "2023-07-11T10:35:13.161394Z",
     "iopub.status.idle": "2023-07-11T10:35:15.575265Z",
     "shell.execute_reply": "2023-07-11T10:35:15.573293Z"
    },
    "papermill": {
     "duration": 2.429447,
     "end_time": "2023-07-11T10:35:15.578098",
     "exception": false,
     "start_time": "2023-07-11T10:35:13.148651",
     "status": "completed"
    },
    "tags": []
   },
   "outputs": [],
   "source": [
    "to_drop = [\"start_lat\", \"start_lng\", \"end_lat\", \"end_lng\"]\n",
    "\n",
    "dts_1 = dts.copy() #copied the dataset so we do not modify the original one\n",
    "dts_1.head()\n",
    "dts_1.drop(to_drop, axis = 1, inplace = True) #drop columns that are not used."
   ]
  },
  {
   "cell_type": "code",
   "execution_count": 10,
   "id": "cfbcf3a4",
   "metadata": {
    "execution": {
     "iopub.execute_input": "2023-07-11T10:35:15.598665Z",
     "iopub.status.busy": "2023-07-11T10:35:15.598293Z",
     "iopub.status.idle": "2023-07-11T10:35:22.286908Z",
     "shell.execute_reply": "2023-07-11T10:35:22.285106Z"
    },
    "papermill": {
     "duration": 6.701988,
     "end_time": "2023-07-11T10:35:22.289451",
     "exception": false,
     "start_time": "2023-07-11T10:35:15.587463",
     "status": "completed"
    },
    "tags": []
   },
   "outputs": [
    {
     "name": "stdout",
     "output_type": "stream",
     "text": [
      "ride_id                    0\n",
      "rideable_type              0\n",
      "started_at                 0\n",
      "ended_at                   0\n",
      "start_station_name    834545\n",
      "start_station_id      834677\n",
      "end_station_name      891757\n",
      "end_station_id        891898\n",
      "member_casual              0\n",
      "dtype: int64\n"
     ]
    }
   ],
   "source": [
    "print(dts_1.isnull().sum()) #there are a lot of NA in the dataset "
   ]
  },
  {
   "cell_type": "code",
   "execution_count": 11,
   "id": "610b2e9b",
   "metadata": {
    "execution": {
     "iopub.execute_input": "2023-07-11T10:35:22.309685Z",
     "iopub.status.busy": "2023-07-11T10:35:22.309322Z",
     "iopub.status.idle": "2023-07-11T10:35:29.025348Z",
     "shell.execute_reply": "2023-07-11T10:35:29.023913Z"
    },
    "papermill": {
     "duration": 6.729002,
     "end_time": "2023-07-11T10:35:29.027817",
     "exception": false,
     "start_time": "2023-07-11T10:35:22.298815",
     "status": "completed"
    },
    "tags": []
   },
   "outputs": [
    {
     "name": "stdout",
     "output_type": "stream",
     "text": [
      "ride_id               5829030\n",
      "rideable_type         5829030\n",
      "started_at            5829030\n",
      "ended_at              5829030\n",
      "start_station_name    4994485\n",
      "start_station_id      4994353\n",
      "end_station_name      4937273\n",
      "end_station_id        4937132\n",
      "member_casual         5829030\n",
      "dtype: int64\n"
     ]
    }
   ],
   "source": [
    "print(dts_1.notnull().sum()) #let's also check for not null, to be sure"
   ]
  },
  {
   "cell_type": "markdown",
   "id": "18650699",
   "metadata": {
    "papermill": {
     "duration": 0.008676,
     "end_time": "2023-07-11T10:35:29.045593",
     "exception": false,
     "start_time": "2023-07-11T10:35:29.036917",
     "status": "completed"
    },
    "tags": []
   },
   "source": [
    "Since I know that there are some N/A values, let's drop those rows, because they are lacking some info and it's probably safer to remove them than to keep them."
   ]
  },
  {
   "cell_type": "code",
   "execution_count": 12,
   "id": "ba57cff1",
   "metadata": {
    "execution": {
     "iopub.execute_input": "2023-07-11T10:35:29.065297Z",
     "iopub.status.busy": "2023-07-11T10:35:29.064985Z",
     "iopub.status.idle": "2023-07-11T10:35:42.146903Z",
     "shell.execute_reply": "2023-07-11T10:35:42.145346Z"
    },
    "papermill": {
     "duration": 13.094403,
     "end_time": "2023-07-11T10:35:42.149136",
     "exception": false,
     "start_time": "2023-07-11T10:35:29.054733",
     "status": "completed"
    },
    "tags": []
   },
   "outputs": [
    {
     "data": {
      "text/plain": [
       "ride_id               0\n",
       "rideable_type         0\n",
       "started_at            0\n",
       "ended_at              0\n",
       "start_station_name    0\n",
       "start_station_id      0\n",
       "end_station_name      0\n",
       "end_station_id        0\n",
       "member_casual         0\n",
       "dtype: int64"
      ]
     },
     "execution_count": 12,
     "metadata": {},
     "output_type": "execute_result"
    }
   ],
   "source": [
    "dts_1.dropna(inplace = True) #drop NA values\n",
    "dts_1.isnull().sum()"
   ]
  },
  {
   "cell_type": "code",
   "execution_count": 13,
   "id": "634bdba1",
   "metadata": {
    "execution": {
     "iopub.execute_input": "2023-07-11T10:35:42.169638Z",
     "iopub.status.busy": "2023-07-11T10:35:42.169269Z",
     "iopub.status.idle": "2023-07-11T10:35:54.999311Z",
     "shell.execute_reply": "2023-07-11T10:35:54.997841Z"
    },
    "papermill": {
     "duration": 12.842995,
     "end_time": "2023-07-11T10:35:55.001555",
     "exception": false,
     "start_time": "2023-07-11T10:35:42.158560",
     "status": "completed"
    },
    "tags": []
   },
   "outputs": [
    {
     "name": "stdout",
     "output_type": "stream",
     "text": [
      "0\n"
     ]
    }
   ],
   "source": [
    "duplicate = dts_1[dts_1.duplicated()] #check for duplicates: there are no duplicates in the dataset.\n",
    "print(len(duplicate))\n"
   ]
  },
  {
   "cell_type": "markdown",
   "id": "a3e70fe0",
   "metadata": {
    "papermill": {
     "duration": 0.008944,
     "end_time": "2023-07-11T10:35:55.019921",
     "exception": false,
     "start_time": "2023-07-11T10:35:55.010977",
     "status": "completed"
    },
    "tags": []
   },
   "source": [
    "Now that I have done a basic cleaning of the data, I will continue with creating a few new columns that will help with the analysis. I will create a column named \"ride_length\", formatted as HH:MM:SS, and a column named \"day_of_the_week\", formatted as a numeral.\n",
    "First, I have to correct the column for the start and end of ride to be a date."
   ]
  },
  {
   "cell_type": "code",
   "execution_count": 14,
   "id": "b32ccb8a",
   "metadata": {
    "execution": {
     "iopub.execute_input": "2023-07-11T10:35:55.040711Z",
     "iopub.status.busy": "2023-07-11T10:35:55.040145Z",
     "iopub.status.idle": "2023-07-11T10:35:57.106470Z",
     "shell.execute_reply": "2023-07-11T10:35:57.105128Z"
    },
    "papermill": {
     "duration": 2.079717,
     "end_time": "2023-07-11T10:35:57.109036",
     "exception": false,
     "start_time": "2023-07-11T10:35:55.029319",
     "status": "completed"
    },
    "tags": []
   },
   "outputs": [],
   "source": [
    "dts_1[\"started_at\"] = pd.to_datetime(dts_1[\"started_at\"]) #convert to datetime\n",
    "dts_1[\"ended_at\"] = pd.to_datetime(dts_1[\"ended_at\"]) #convert to datetime\n",
    "\n",
    "dts_1[\"ride_length\"] = (dts_1[\"ended_at\"]-dts_1[\"started_at\"]) #create ride_length columns"
   ]
  },
  {
   "cell_type": "code",
   "execution_count": 15,
   "id": "adab6d87",
   "metadata": {
    "execution": {
     "iopub.execute_input": "2023-07-11T10:35:57.131151Z",
     "iopub.status.busy": "2023-07-11T10:35:57.129771Z",
     "iopub.status.idle": "2023-07-11T10:35:57.290708Z",
     "shell.execute_reply": "2023-07-11T10:35:57.289124Z"
    },
    "papermill": {
     "duration": 0.175091,
     "end_time": "2023-07-11T10:35:57.293716",
     "exception": false,
     "start_time": "2023-07-11T10:35:57.118625",
     "status": "completed"
    },
    "tags": []
   },
   "outputs": [],
   "source": [
    "dts_1[\"day_of_the_week\"] = dts_1[\"started_at\"].dt.dayofweek+1 #create a columns with day \n",
    "                                                                #of week form 1 to 7"
   ]
  },
  {
   "cell_type": "code",
   "execution_count": 16,
   "id": "01dbf559",
   "metadata": {
    "execution": {
     "iopub.execute_input": "2023-07-11T10:35:57.314736Z",
     "iopub.status.busy": "2023-07-11T10:35:57.314360Z",
     "iopub.status.idle": "2023-07-11T10:35:57.334367Z",
     "shell.execute_reply": "2023-07-11T10:35:57.333191Z"
    },
    "papermill": {
     "duration": 0.032617,
     "end_time": "2023-07-11T10:35:57.336332",
     "exception": false,
     "start_time": "2023-07-11T10:35:57.303715",
     "status": "completed"
    },
    "tags": []
   },
   "outputs": [
    {
     "data": {
      "text/html": [
       "<div>\n",
       "<style scoped>\n",
       "    .dataframe tbody tr th:only-of-type {\n",
       "        vertical-align: middle;\n",
       "    }\n",
       "\n",
       "    .dataframe tbody tr th {\n",
       "        vertical-align: top;\n",
       "    }\n",
       "\n",
       "    .dataframe thead th {\n",
       "        text-align: right;\n",
       "    }\n",
       "</style>\n",
       "<table border=\"1\" class=\"dataframe\">\n",
       "  <thead>\n",
       "    <tr style=\"text-align: right;\">\n",
       "      <th></th>\n",
       "      <th>ride_id</th>\n",
       "      <th>rideable_type</th>\n",
       "      <th>started_at</th>\n",
       "      <th>ended_at</th>\n",
       "      <th>start_station_name</th>\n",
       "      <th>start_station_id</th>\n",
       "      <th>end_station_name</th>\n",
       "      <th>end_station_id</th>\n",
       "      <th>member_casual</th>\n",
       "      <th>ride_length</th>\n",
       "      <th>day_of_the_week</th>\n",
       "    </tr>\n",
       "  </thead>\n",
       "  <tbody>\n",
       "    <tr>\n",
       "      <th>0</th>\n",
       "      <td>954144C2F67B1932</td>\n",
       "      <td>classic_bike</td>\n",
       "      <td>2022-07-05 08:12:47</td>\n",
       "      <td>2022-07-05 08:24:32</td>\n",
       "      <td>Ashland Ave &amp; Blackhawk St</td>\n",
       "      <td>13224</td>\n",
       "      <td>Kingsbury St &amp; Kinzie St</td>\n",
       "      <td>KA1503000043</td>\n",
       "      <td>member</td>\n",
       "      <td>0 days 00:11:45</td>\n",
       "      <td>2</td>\n",
       "    </tr>\n",
       "    <tr>\n",
       "      <th>1</th>\n",
       "      <td>292E027607D218B6</td>\n",
       "      <td>classic_bike</td>\n",
       "      <td>2022-07-26 12:53:38</td>\n",
       "      <td>2022-07-26 12:55:31</td>\n",
       "      <td>Buckingham Fountain (Temp)</td>\n",
       "      <td>15541</td>\n",
       "      <td>Michigan Ave &amp; 8th St</td>\n",
       "      <td>623</td>\n",
       "      <td>casual</td>\n",
       "      <td>0 days 00:01:53</td>\n",
       "      <td>2</td>\n",
       "    </tr>\n",
       "    <tr>\n",
       "      <th>2</th>\n",
       "      <td>57765852588AD6E0</td>\n",
       "      <td>classic_bike</td>\n",
       "      <td>2022-07-03 13:58:49</td>\n",
       "      <td>2022-07-03 14:06:32</td>\n",
       "      <td>Buckingham Fountain (Temp)</td>\n",
       "      <td>15541</td>\n",
       "      <td>Michigan Ave &amp; 8th St</td>\n",
       "      <td>623</td>\n",
       "      <td>casual</td>\n",
       "      <td>0 days 00:07:43</td>\n",
       "      <td>7</td>\n",
       "    </tr>\n",
       "    <tr>\n",
       "      <th>3</th>\n",
       "      <td>B5B6BE44314590E6</td>\n",
       "      <td>classic_bike</td>\n",
       "      <td>2022-07-31 17:44:21</td>\n",
       "      <td>2022-07-31 18:42:50</td>\n",
       "      <td>Buckingham Fountain (Temp)</td>\n",
       "      <td>15541</td>\n",
       "      <td>Woodlawn Ave &amp; 55th St</td>\n",
       "      <td>TA1307000164</td>\n",
       "      <td>casual</td>\n",
       "      <td>0 days 00:58:29</td>\n",
       "      <td>7</td>\n",
       "    </tr>\n",
       "    <tr>\n",
       "      <th>4</th>\n",
       "      <td>A4C331F2A00E79E0</td>\n",
       "      <td>classic_bike</td>\n",
       "      <td>2022-07-13 19:49:06</td>\n",
       "      <td>2022-07-13 20:15:24</td>\n",
       "      <td>Wabash Ave &amp; Grand Ave</td>\n",
       "      <td>TA1307000117</td>\n",
       "      <td>Sheffield Ave &amp; Wellington Ave</td>\n",
       "      <td>TA1307000052</td>\n",
       "      <td>member</td>\n",
       "      <td>0 days 00:26:18</td>\n",
       "      <td>3</td>\n",
       "    </tr>\n",
       "  </tbody>\n",
       "</table>\n",
       "</div>"
      ],
      "text/plain": [
       "            ride_id rideable_type          started_at            ended_at  \\\n",
       "0  954144C2F67B1932  classic_bike 2022-07-05 08:12:47 2022-07-05 08:24:32   \n",
       "1  292E027607D218B6  classic_bike 2022-07-26 12:53:38 2022-07-26 12:55:31   \n",
       "2  57765852588AD6E0  classic_bike 2022-07-03 13:58:49 2022-07-03 14:06:32   \n",
       "3  B5B6BE44314590E6  classic_bike 2022-07-31 17:44:21 2022-07-31 18:42:50   \n",
       "4  A4C331F2A00E79E0  classic_bike 2022-07-13 19:49:06 2022-07-13 20:15:24   \n",
       "\n",
       "           start_station_name start_station_id  \\\n",
       "0  Ashland Ave & Blackhawk St            13224   \n",
       "1  Buckingham Fountain (Temp)            15541   \n",
       "2  Buckingham Fountain (Temp)            15541   \n",
       "3  Buckingham Fountain (Temp)            15541   \n",
       "4      Wabash Ave & Grand Ave     TA1307000117   \n",
       "\n",
       "                 end_station_name end_station_id member_casual  \\\n",
       "0        Kingsbury St & Kinzie St   KA1503000043        member   \n",
       "1           Michigan Ave & 8th St            623        casual   \n",
       "2           Michigan Ave & 8th St            623        casual   \n",
       "3          Woodlawn Ave & 55th St   TA1307000164        casual   \n",
       "4  Sheffield Ave & Wellington Ave   TA1307000052        member   \n",
       "\n",
       "      ride_length  day_of_the_week  \n",
       "0 0 days 00:11:45                2  \n",
       "1 0 days 00:01:53                2  \n",
       "2 0 days 00:07:43                7  \n",
       "3 0 days 00:58:29                7  \n",
       "4 0 days 00:26:18                3  "
      ]
     },
     "execution_count": 16,
     "metadata": {},
     "output_type": "execute_result"
    }
   ],
   "source": [
    "dts_1.head()"
   ]
  },
  {
   "cell_type": "code",
   "execution_count": 17,
   "id": "daa83aa2",
   "metadata": {
    "execution": {
     "iopub.execute_input": "2023-07-11T10:35:57.358147Z",
     "iopub.status.busy": "2023-07-11T10:35:57.357748Z",
     "iopub.status.idle": "2023-07-11T10:35:59.994598Z",
     "shell.execute_reply": "2023-07-11T10:35:59.993085Z"
    },
    "papermill": {
     "duration": 2.651474,
     "end_time": "2023-07-11T10:35:59.997490",
     "exception": false,
     "start_time": "2023-07-11T10:35:57.346016",
     "status": "completed"
    },
    "tags": []
   },
   "outputs": [
    {
     "data": {
      "text/html": [
       "<div>\n",
       "<style scoped>\n",
       "    .dataframe tbody tr th:only-of-type {\n",
       "        vertical-align: middle;\n",
       "    }\n",
       "\n",
       "    .dataframe tbody tr th {\n",
       "        vertical-align: top;\n",
       "    }\n",
       "\n",
       "    .dataframe thead th {\n",
       "        text-align: right;\n",
       "    }\n",
       "</style>\n",
       "<table border=\"1\" class=\"dataframe\">\n",
       "  <thead>\n",
       "    <tr style=\"text-align: right;\">\n",
       "      <th></th>\n",
       "      <th>ride_id</th>\n",
       "      <th>rideable_type</th>\n",
       "      <th>started_at</th>\n",
       "      <th>ended_at</th>\n",
       "      <th>start_station_name</th>\n",
       "      <th>start_station_id</th>\n",
       "      <th>end_station_name</th>\n",
       "      <th>end_station_id</th>\n",
       "      <th>member_casual</th>\n",
       "      <th>ride_length</th>\n",
       "      <th>day_of_the_week</th>\n",
       "    </tr>\n",
       "  </thead>\n",
       "  <tbody>\n",
       "    <tr>\n",
       "      <th>0</th>\n",
       "      <td>954144C2F67B1932</td>\n",
       "      <td>classic_bike</td>\n",
       "      <td>2022-07-05 08:12:47</td>\n",
       "      <td>2022-07-05 08:24:32</td>\n",
       "      <td>Ashland Ave &amp; Blackhawk St</td>\n",
       "      <td>13224</td>\n",
       "      <td>Kingsbury St &amp; Kinzie St</td>\n",
       "      <td>KA1503000043</td>\n",
       "      <td>member</td>\n",
       "      <td>0 days 00:11:45</td>\n",
       "      <td>2</td>\n",
       "    </tr>\n",
       "    <tr>\n",
       "      <th>1</th>\n",
       "      <td>292E027607D218B6</td>\n",
       "      <td>classic_bike</td>\n",
       "      <td>2022-07-26 12:53:38</td>\n",
       "      <td>2022-07-26 12:55:31</td>\n",
       "      <td>Buckingham Fountain (Temp)</td>\n",
       "      <td>15541</td>\n",
       "      <td>Michigan Ave &amp; 8th St</td>\n",
       "      <td>623</td>\n",
       "      <td>casual</td>\n",
       "      <td>0 days 00:01:53</td>\n",
       "      <td>2</td>\n",
       "    </tr>\n",
       "    <tr>\n",
       "      <th>2</th>\n",
       "      <td>57765852588AD6E0</td>\n",
       "      <td>classic_bike</td>\n",
       "      <td>2022-07-03 13:58:49</td>\n",
       "      <td>2022-07-03 14:06:32</td>\n",
       "      <td>Buckingham Fountain (Temp)</td>\n",
       "      <td>15541</td>\n",
       "      <td>Michigan Ave &amp; 8th St</td>\n",
       "      <td>623</td>\n",
       "      <td>casual</td>\n",
       "      <td>0 days 00:07:43</td>\n",
       "      <td>7</td>\n",
       "    </tr>\n",
       "    <tr>\n",
       "      <th>3</th>\n",
       "      <td>B5B6BE44314590E6</td>\n",
       "      <td>classic_bike</td>\n",
       "      <td>2022-07-31 17:44:21</td>\n",
       "      <td>2022-07-31 18:42:50</td>\n",
       "      <td>Buckingham Fountain (Temp)</td>\n",
       "      <td>15541</td>\n",
       "      <td>Woodlawn Ave &amp; 55th St</td>\n",
       "      <td>TA1307000164</td>\n",
       "      <td>casual</td>\n",
       "      <td>0 days 00:58:29</td>\n",
       "      <td>7</td>\n",
       "    </tr>\n",
       "    <tr>\n",
       "      <th>4</th>\n",
       "      <td>A4C331F2A00E79E0</td>\n",
       "      <td>classic_bike</td>\n",
       "      <td>2022-07-13 19:49:06</td>\n",
       "      <td>2022-07-13 20:15:24</td>\n",
       "      <td>Wabash Ave &amp; Grand Ave</td>\n",
       "      <td>TA1307000117</td>\n",
       "      <td>Sheffield Ave &amp; Wellington Ave</td>\n",
       "      <td>TA1307000052</td>\n",
       "      <td>member</td>\n",
       "      <td>0 days 00:26:18</td>\n",
       "      <td>3</td>\n",
       "    </tr>\n",
       "    <tr>\n",
       "      <th>...</th>\n",
       "      <td>...</td>\n",
       "      <td>...</td>\n",
       "      <td>...</td>\n",
       "      <td>...</td>\n",
       "      <td>...</td>\n",
       "      <td>...</td>\n",
       "      <td>...</td>\n",
       "      <td>...</td>\n",
       "      <td>...</td>\n",
       "      <td>...</td>\n",
       "      <td>...</td>\n",
       "    </tr>\n",
       "    <tr>\n",
       "      <th>337727</th>\n",
       "      <td>03005DDB0F2F28E4</td>\n",
       "      <td>classic_bike</td>\n",
       "      <td>2022-11-09 14:22:29</td>\n",
       "      <td>2022-11-09 14:25:18</td>\n",
       "      <td>Clifton Ave &amp; Armitage Ave</td>\n",
       "      <td>TA1307000163</td>\n",
       "      <td>Sheffield Ave &amp; Webster Ave</td>\n",
       "      <td>TA1309000033</td>\n",
       "      <td>member</td>\n",
       "      <td>0 days 00:02:49</td>\n",
       "      <td>3</td>\n",
       "    </tr>\n",
       "    <tr>\n",
       "      <th>337731</th>\n",
       "      <td>B0B4E85DA43A9194</td>\n",
       "      <td>classic_bike</td>\n",
       "      <td>2022-11-22 16:57:53</td>\n",
       "      <td>2022-11-22 17:31:29</td>\n",
       "      <td>Franklin St &amp; Jackson Blvd</td>\n",
       "      <td>TA1305000025</td>\n",
       "      <td>Sheffield Ave &amp; Wrightwood Ave</td>\n",
       "      <td>TA1309000023</td>\n",
       "      <td>casual</td>\n",
       "      <td>0 days 00:33:36</td>\n",
       "      <td>2</td>\n",
       "    </tr>\n",
       "    <tr>\n",
       "      <th>337732</th>\n",
       "      <td>8D148DD47B59530B</td>\n",
       "      <td>classic_bike</td>\n",
       "      <td>2022-11-06 13:04:05</td>\n",
       "      <td>2022-11-06 13:13:33</td>\n",
       "      <td>Michigan Ave &amp; Ida B Wells Dr</td>\n",
       "      <td>TA1305000010</td>\n",
       "      <td>Shedd Aquarium</td>\n",
       "      <td>15544</td>\n",
       "      <td>casual</td>\n",
       "      <td>0 days 00:09:28</td>\n",
       "      <td>7</td>\n",
       "    </tr>\n",
       "    <tr>\n",
       "      <th>337733</th>\n",
       "      <td>0D1170BA18FD33D1</td>\n",
       "      <td>classic_bike</td>\n",
       "      <td>2022-11-06 09:41:29</td>\n",
       "      <td>2022-11-06 15:17:17</td>\n",
       "      <td>Halsted St &amp; 18th St</td>\n",
       "      <td>13099</td>\n",
       "      <td>Shedd Aquarium</td>\n",
       "      <td>15544</td>\n",
       "      <td>casual</td>\n",
       "      <td>0 days 05:35:48</td>\n",
       "      <td>7</td>\n",
       "    </tr>\n",
       "    <tr>\n",
       "      <th>337734</th>\n",
       "      <td>09B20DC75B5EA1E0</td>\n",
       "      <td>electric_bike</td>\n",
       "      <td>2022-11-26 11:59:28</td>\n",
       "      <td>2022-11-26 12:31:04</td>\n",
       "      <td>Michigan Ave &amp; Ida B Wells Dr</td>\n",
       "      <td>TA1305000010</td>\n",
       "      <td>Shedd Aquarium</td>\n",
       "      <td>15544</td>\n",
       "      <td>casual</td>\n",
       "      <td>0 days 00:31:36</td>\n",
       "      <td>6</td>\n",
       "    </tr>\n",
       "  </tbody>\n",
       "</table>\n",
       "<p>4080728 rows × 11 columns</p>\n",
       "</div>"
      ],
      "text/plain": [
       "                 ride_id  rideable_type          started_at  \\\n",
       "0       954144C2F67B1932   classic_bike 2022-07-05 08:12:47   \n",
       "1       292E027607D218B6   classic_bike 2022-07-26 12:53:38   \n",
       "2       57765852588AD6E0   classic_bike 2022-07-03 13:58:49   \n",
       "3       B5B6BE44314590E6   classic_bike 2022-07-31 17:44:21   \n",
       "4       A4C331F2A00E79E0   classic_bike 2022-07-13 19:49:06   \n",
       "...                  ...            ...                 ...   \n",
       "337727  03005DDB0F2F28E4   classic_bike 2022-11-09 14:22:29   \n",
       "337731  B0B4E85DA43A9194   classic_bike 2022-11-22 16:57:53   \n",
       "337732  8D148DD47B59530B   classic_bike 2022-11-06 13:04:05   \n",
       "337733  0D1170BA18FD33D1   classic_bike 2022-11-06 09:41:29   \n",
       "337734  09B20DC75B5EA1E0  electric_bike 2022-11-26 11:59:28   \n",
       "\n",
       "                  ended_at             start_station_name start_station_id  \\\n",
       "0      2022-07-05 08:24:32     Ashland Ave & Blackhawk St            13224   \n",
       "1      2022-07-26 12:55:31     Buckingham Fountain (Temp)            15541   \n",
       "2      2022-07-03 14:06:32     Buckingham Fountain (Temp)            15541   \n",
       "3      2022-07-31 18:42:50     Buckingham Fountain (Temp)            15541   \n",
       "4      2022-07-13 20:15:24         Wabash Ave & Grand Ave     TA1307000117   \n",
       "...                    ...                            ...              ...   \n",
       "337727 2022-11-09 14:25:18     Clifton Ave & Armitage Ave     TA1307000163   \n",
       "337731 2022-11-22 17:31:29     Franklin St & Jackson Blvd     TA1305000025   \n",
       "337732 2022-11-06 13:13:33  Michigan Ave & Ida B Wells Dr     TA1305000010   \n",
       "337733 2022-11-06 15:17:17           Halsted St & 18th St            13099   \n",
       "337734 2022-11-26 12:31:04  Michigan Ave & Ida B Wells Dr     TA1305000010   \n",
       "\n",
       "                      end_station_name end_station_id member_casual  \\\n",
       "0             Kingsbury St & Kinzie St   KA1503000043        member   \n",
       "1                Michigan Ave & 8th St            623        casual   \n",
       "2                Michigan Ave & 8th St            623        casual   \n",
       "3               Woodlawn Ave & 55th St   TA1307000164        casual   \n",
       "4       Sheffield Ave & Wellington Ave   TA1307000052        member   \n",
       "...                                ...            ...           ...   \n",
       "337727     Sheffield Ave & Webster Ave   TA1309000033        member   \n",
       "337731  Sheffield Ave & Wrightwood Ave   TA1309000023        casual   \n",
       "337732                  Shedd Aquarium          15544        casual   \n",
       "337733                  Shedd Aquarium          15544        casual   \n",
       "337734                  Shedd Aquarium          15544        casual   \n",
       "\n",
       "           ride_length  day_of_the_week  \n",
       "0      0 days 00:11:45                2  \n",
       "1      0 days 00:01:53                2  \n",
       "2      0 days 00:07:43                7  \n",
       "3      0 days 00:58:29                7  \n",
       "4      0 days 00:26:18                3  \n",
       "...                ...              ...  \n",
       "337727 0 days 00:02:49                3  \n",
       "337731 0 days 00:33:36                2  \n",
       "337732 0 days 00:09:28                7  \n",
       "337733 0 days 05:35:48                7  \n",
       "337734 0 days 00:31:36                6  \n",
       "\n",
       "[4080728 rows x 11 columns]"
      ]
     },
     "execution_count": 17,
     "metadata": {},
     "output_type": "execute_result"
    }
   ],
   "source": [
    "#apparently some data for ride_length are negative and some values are over 1 day. I will \n",
    "#remove the data lower than 30 seconds and remove the data over 1 day.\n",
    "\n",
    "dts_1.drop(dts_1[dts_1[\"ride_length\"] < pd.Timedelta(seconds = 30)].index, inplace = True)\n",
    "dts_1.drop(dts_1[dts_1[\"ride_length\"] > pd.Timedelta(days = 1)].index, inplace = True)\n",
    "dts_1"
   ]
  },
  {
   "cell_type": "markdown",
   "id": "c02251fc",
   "metadata": {
    "papermill": {
     "duration": 0.010787,
     "end_time": "2023-07-11T10:36:00.018923",
     "exception": false,
     "start_time": "2023-07-11T10:36:00.008136",
     "status": "completed"
    },
    "tags": []
   },
   "source": [
    "I think that for the moment the cleaning of the data is complete.\n",
    "\n",
    "### Deliverables\n",
    "Documentation of any cleaning or manipulation of data.\n",
    "\n",
    "I took the steps above to check and clean the dataset.\n",
    "\n",
    "# Analyze\n",
    "\n",
    "Now that the data are clean, I will perform some analysis to find some insight from them and to summarize them. I used the describe() function to get some basic descriptive values."
   ]
  },
  {
   "cell_type": "code",
   "execution_count": 18,
   "id": "e8942c44",
   "metadata": {
    "execution": {
     "iopub.execute_input": "2023-07-11T10:36:00.042531Z",
     "iopub.status.busy": "2023-07-11T10:36:00.042010Z",
     "iopub.status.idle": "2023-07-11T10:36:00.266055Z",
     "shell.execute_reply": "2023-07-11T10:36:00.264334Z"
    },
    "papermill": {
     "duration": 0.23801,
     "end_time": "2023-07-11T10:36:00.268166",
     "exception": false,
     "start_time": "2023-07-11T10:36:00.030156",
     "status": "completed"
    },
    "tags": []
   },
   "outputs": [
    {
     "data": {
      "text/html": [
       "<div>\n",
       "<style scoped>\n",
       "    .dataframe tbody tr th:only-of-type {\n",
       "        vertical-align: middle;\n",
       "    }\n",
       "\n",
       "    .dataframe tbody tr th {\n",
       "        vertical-align: top;\n",
       "    }\n",
       "\n",
       "    .dataframe thead th {\n",
       "        text-align: right;\n",
       "    }\n",
       "</style>\n",
       "<table border=\"1\" class=\"dataframe\">\n",
       "  <thead>\n",
       "    <tr style=\"text-align: right;\">\n",
       "      <th></th>\n",
       "      <th>ride_length</th>\n",
       "      <th>day_of_the_week</th>\n",
       "    </tr>\n",
       "  </thead>\n",
       "  <tbody>\n",
       "    <tr>\n",
       "      <th>count</th>\n",
       "      <td>4080728</td>\n",
       "      <td>4.080728e+06</td>\n",
       "    </tr>\n",
       "    <tr>\n",
       "      <th>mean</th>\n",
       "      <td>0 days 00:16:29.552227690</td>\n",
       "      <td>4.036251e+00</td>\n",
       "    </tr>\n",
       "    <tr>\n",
       "      <th>std</th>\n",
       "      <td>0 days 00:30:36.343395356</td>\n",
       "      <td>1.952390e+00</td>\n",
       "    </tr>\n",
       "    <tr>\n",
       "      <th>min</th>\n",
       "      <td>0 days 00:00:30</td>\n",
       "      <td>1.000000e+00</td>\n",
       "    </tr>\n",
       "    <tr>\n",
       "      <th>25%</th>\n",
       "      <td>0 days 00:05:57</td>\n",
       "      <td>2.000000e+00</td>\n",
       "    </tr>\n",
       "    <tr>\n",
       "      <th>50%</th>\n",
       "      <td>0 days 00:10:20</td>\n",
       "      <td>4.000000e+00</td>\n",
       "    </tr>\n",
       "    <tr>\n",
       "      <th>75%</th>\n",
       "      <td>0 days 00:18:24</td>\n",
       "      <td>6.000000e+00</td>\n",
       "    </tr>\n",
       "    <tr>\n",
       "      <th>max</th>\n",
       "      <td>0 days 23:59:22</td>\n",
       "      <td>7.000000e+00</td>\n",
       "    </tr>\n",
       "  </tbody>\n",
       "</table>\n",
       "</div>"
      ],
      "text/plain": [
       "                     ride_length  day_of_the_week\n",
       "count                    4080728     4.080728e+06\n",
       "mean   0 days 00:16:29.552227690     4.036251e+00\n",
       "std    0 days 00:30:36.343395356     1.952390e+00\n",
       "min              0 days 00:00:30     1.000000e+00\n",
       "25%              0 days 00:05:57     2.000000e+00\n",
       "50%              0 days 00:10:20     4.000000e+00\n",
       "75%              0 days 00:18:24     6.000000e+00\n",
       "max              0 days 23:59:22     7.000000e+00"
      ]
     },
     "execution_count": 18,
     "metadata": {},
     "output_type": "execute_result"
    }
   ],
   "source": [
    "dts_1.describe()"
   ]
  },
  {
   "cell_type": "code",
   "execution_count": 19,
   "id": "79ea0b48",
   "metadata": {
    "execution": {
     "iopub.execute_input": "2023-07-11T10:36:00.290984Z",
     "iopub.status.busy": "2023-07-11T10:36:00.290596Z",
     "iopub.status.idle": "2023-07-11T10:36:00.497514Z",
     "shell.execute_reply": "2023-07-11T10:36:00.496716Z"
    },
    "papermill": {
     "duration": 0.221515,
     "end_time": "2023-07-11T10:36:00.499931",
     "exception": false,
     "start_time": "2023-07-11T10:36:00.278416",
     "status": "completed"
    },
    "tags": []
   },
   "outputs": [
    {
     "data": {
      "text/plain": [
       "member    60.807508\n",
       "casual    39.192492\n",
       "Name: member_casual, dtype: float64"
      ]
     },
     "execution_count": 19,
     "metadata": {},
     "output_type": "execute_result"
    }
   ],
   "source": [
    "#dts_1.groupby([\"member_casual\"]).value_counts(normalize = True)\n",
    "dts_1.member_casual.value_counts(normalize = True)*100"
   ]
  },
  {
   "cell_type": "markdown",
   "id": "4fcfbb46",
   "metadata": {
    "papermill": {
     "duration": 0.010452,
     "end_time": "2023-07-11T10:36:00.521589",
     "exception": false,
     "start_time": "2023-07-11T10:36:00.511137",
     "status": "completed"
    },
    "tags": []
   },
   "source": [
    "I can see that the mean for the ride length is around 16 minutes, with the min being 30 seconds and the max being almost one day. I want to see if these values are different if I only consider casual or members. I can visualize this by using a pivot table: I will add the mean, the min and the max. I cans also see that 60% of my dataset is composed of rides from members."
   ]
  },
  {
   "cell_type": "code",
   "execution_count": 20,
   "id": "16c8f376",
   "metadata": {
    "execution": {
     "iopub.execute_input": "2023-07-11T10:36:00.544610Z",
     "iopub.status.busy": "2023-07-11T10:36:00.544209Z",
     "iopub.status.idle": "2023-07-11T10:36:01.022883Z",
     "shell.execute_reply": "2023-07-11T10:36:01.021404Z"
    },
    "papermill": {
     "duration": 0.492833,
     "end_time": "2023-07-11T10:36:01.025174",
     "exception": false,
     "start_time": "2023-07-11T10:36:00.532341",
     "status": "completed"
    },
    "tags": []
   },
   "outputs": [
    {
     "data": {
      "text/html": [
       "<div>\n",
       "<style scoped>\n",
       "    .dataframe tbody tr th:only-of-type {\n",
       "        vertical-align: middle;\n",
       "    }\n",
       "\n",
       "    .dataframe tbody tr th {\n",
       "        vertical-align: top;\n",
       "    }\n",
       "\n",
       "    .dataframe thead th {\n",
       "        text-align: right;\n",
       "    }\n",
       "</style>\n",
       "<table border=\"1\" class=\"dataframe\">\n",
       "  <thead>\n",
       "    <tr style=\"text-align: right;\">\n",
       "      <th></th>\n",
       "      <th>count</th>\n",
       "      <th>max</th>\n",
       "      <th>mean</th>\n",
       "      <th>min</th>\n",
       "    </tr>\n",
       "    <tr>\n",
       "      <th>member_casual</th>\n",
       "      <th></th>\n",
       "      <th></th>\n",
       "      <th></th>\n",
       "      <th></th>\n",
       "    </tr>\n",
       "  </thead>\n",
       "  <tbody>\n",
       "    <tr>\n",
       "      <th>casual</th>\n",
       "      <td>1599339</td>\n",
       "      <td>0 days 23:59:22</td>\n",
       "      <td>0 days 00:22:52.538971412</td>\n",
       "      <td>0 days 00:00:30</td>\n",
       "    </tr>\n",
       "    <tr>\n",
       "      <th>member</th>\n",
       "      <td>2481389</td>\n",
       "      <td>0 days 23:56:20</td>\n",
       "      <td>0 days 00:12:22.704338981</td>\n",
       "      <td>0 days 00:00:30</td>\n",
       "    </tr>\n",
       "  </tbody>\n",
       "</table>\n",
       "</div>"
      ],
      "text/plain": [
       "                 count             max                      mean  \\\n",
       "member_casual                                                      \n",
       "casual         1599339 0 days 23:59:22 0 days 00:22:52.538971412   \n",
       "member         2481389 0 days 23:56:20 0 days 00:12:22.704338981   \n",
       "\n",
       "                          min  \n",
       "member_casual                  \n",
       "casual        0 days 00:00:30  \n",
       "member        0 days 00:00:30  "
      ]
     },
     "execution_count": 20,
     "metadata": {},
     "output_type": "execute_result"
    }
   ],
   "source": [
    "table_1 = pd.pivot_table(dts_1, values = \"ride_length\", index = \"member_casual\", \n",
    "                       aggfunc = {\"count\", np.mean, min, max})\n",
    "table_1"
   ]
  },
  {
   "cell_type": "markdown",
   "id": "46921cdf",
   "metadata": {
    "papermill": {
     "duration": 0.010459,
     "end_time": "2023-07-11T10:36:01.046188",
     "exception": false,
     "start_time": "2023-07-11T10:36:01.035729",
     "status": "completed"
    },
    "tags": []
   },
   "source": [
    "Interestingly, the count for the members is almost double the one for the casual users. The max and the min are comparable (both probably not being very indicative), but we can see that the casual riders use the bikes in average for longer. This suggests that the members use the bikes more often, but for shorter rides. \n",
    "\n",
    "We can also check if there are differences in the behaviours related to the days of the week. "
   ]
  },
  {
   "cell_type": "code",
   "execution_count": 21,
   "id": "23c32ca1",
   "metadata": {
    "execution": {
     "iopub.execute_input": "2023-07-11T10:36:01.070115Z",
     "iopub.status.busy": "2023-07-11T10:36:01.069682Z",
     "iopub.status.idle": "2023-07-11T10:36:01.582513Z",
     "shell.execute_reply": "2023-07-11T10:36:01.581169Z"
    },
    "papermill": {
     "duration": 0.527817,
     "end_time": "2023-07-11T10:36:01.585242",
     "exception": false,
     "start_time": "2023-07-11T10:36:01.057425",
     "status": "completed"
    },
    "tags": []
   },
   "outputs": [
    {
     "data": {
      "text/html": [
       "<div>\n",
       "<style scoped>\n",
       "    .dataframe tbody tr th:only-of-type {\n",
       "        vertical-align: middle;\n",
       "    }\n",
       "\n",
       "    .dataframe tbody tr th {\n",
       "        vertical-align: top;\n",
       "    }\n",
       "\n",
       "    .dataframe thead th {\n",
       "        text-align: right;\n",
       "    }\n",
       "</style>\n",
       "<table border=\"1\" class=\"dataframe\">\n",
       "  <thead>\n",
       "    <tr style=\"text-align: right;\">\n",
       "      <th></th>\n",
       "      <th></th>\n",
       "      <th>count</th>\n",
       "      <th>mean</th>\n",
       "    </tr>\n",
       "    <tr>\n",
       "      <th>day_of_the_week</th>\n",
       "      <th>member_casual</th>\n",
       "      <th></th>\n",
       "      <th></th>\n",
       "    </tr>\n",
       "  </thead>\n",
       "  <tbody>\n",
       "    <tr>\n",
       "      <th rowspan=\"2\" valign=\"top\">1</th>\n",
       "      <th>casual</th>\n",
       "      <td>178344</td>\n",
       "      <td>0 days 00:22:48.896525815</td>\n",
       "    </tr>\n",
       "    <tr>\n",
       "      <th>member</th>\n",
       "      <td>338129</td>\n",
       "      <td>0 days 00:11:44.082462610</td>\n",
       "    </tr>\n",
       "    <tr>\n",
       "      <th rowspan=\"2\" valign=\"top\">2</th>\n",
       "      <th>casual</th>\n",
       "      <td>184642</td>\n",
       "      <td>0 days 00:20:32.758001971</td>\n",
       "    </tr>\n",
       "    <tr>\n",
       "      <th>member</th>\n",
       "      <td>396416</td>\n",
       "      <td>0 days 00:11:51.527625020</td>\n",
       "    </tr>\n",
       "    <tr>\n",
       "      <th rowspan=\"2\" valign=\"top\">3</th>\n",
       "      <th>casual</th>\n",
       "      <td>199309</td>\n",
       "      <td>0 days 00:19:48.921849991</td>\n",
       "    </tr>\n",
       "    <tr>\n",
       "      <th>member</th>\n",
       "      <td>412470</td>\n",
       "      <td>0 days 00:11:50.709304919</td>\n",
       "    </tr>\n",
       "    <tr>\n",
       "      <th rowspan=\"2\" valign=\"top\">4</th>\n",
       "      <th>casual</th>\n",
       "      <td>213812</td>\n",
       "      <td>0 days 00:20:22.566450900</td>\n",
       "    </tr>\n",
       "    <tr>\n",
       "      <th>member</th>\n",
       "      <td>398873</td>\n",
       "      <td>0 days 00:11:57.810074885</td>\n",
       "    </tr>\n",
       "    <tr>\n",
       "      <th rowspan=\"2\" valign=\"top\">5</th>\n",
       "      <th>casual</th>\n",
       "      <td>236522</td>\n",
       "      <td>0 days 00:21:57.633636617</td>\n",
       "    </tr>\n",
       "    <tr>\n",
       "      <th>member</th>\n",
       "      <td>349625</td>\n",
       "      <td>0 days 00:12:11.585049696</td>\n",
       "    </tr>\n",
       "    <tr>\n",
       "      <th rowspan=\"2\" valign=\"top\">6</th>\n",
       "      <th>casual</th>\n",
       "      <td>321613</td>\n",
       "      <td>0 days 00:25:36.751602080</td>\n",
       "    </tr>\n",
       "    <tr>\n",
       "      <th>member</th>\n",
       "      <td>311049</td>\n",
       "      <td>0 days 00:13:54.231336541</td>\n",
       "    </tr>\n",
       "    <tr>\n",
       "      <th rowspan=\"2\" valign=\"top\">7</th>\n",
       "      <th>casual</th>\n",
       "      <td>265097</td>\n",
       "      <td>0 days 00:26:21.122690939</td>\n",
       "    </tr>\n",
       "    <tr>\n",
       "      <th>member</th>\n",
       "      <td>274827</td>\n",
       "      <td>0 days 00:13:49.897251725</td>\n",
       "    </tr>\n",
       "  </tbody>\n",
       "</table>\n",
       "</div>"
      ],
      "text/plain": [
       "                                count                      mean\n",
       "day_of_the_week member_casual                                  \n",
       "1               casual         178344 0 days 00:22:48.896525815\n",
       "                member         338129 0 days 00:11:44.082462610\n",
       "2               casual         184642 0 days 00:20:32.758001971\n",
       "                member         396416 0 days 00:11:51.527625020\n",
       "3               casual         199309 0 days 00:19:48.921849991\n",
       "                member         412470 0 days 00:11:50.709304919\n",
       "4               casual         213812 0 days 00:20:22.566450900\n",
       "                member         398873 0 days 00:11:57.810074885\n",
       "5               casual         236522 0 days 00:21:57.633636617\n",
       "                member         349625 0 days 00:12:11.585049696\n",
       "6               casual         321613 0 days 00:25:36.751602080\n",
       "                member         311049 0 days 00:13:54.231336541\n",
       "7               casual         265097 0 days 00:26:21.122690939\n",
       "                member         274827 0 days 00:13:49.897251725"
      ]
     },
     "execution_count": 21,
     "metadata": {},
     "output_type": "execute_result"
    }
   ],
   "source": [
    "table_2 = pd.pivot_table(dts_1, values = \"ride_length\", index = [\"day_of_the_week\",\"member_casual\"], \n",
    "                       aggfunc = {\"count\", np.mean})\n",
    "table_2"
   ]
  },
  {
   "cell_type": "markdown",
   "id": "16d5f851",
   "metadata": {
    "papermill": {
     "duration": 0.011624,
     "end_time": "2023-07-11T10:36:01.608285",
     "exception": false,
     "start_time": "2023-07-11T10:36:01.596661",
     "status": "completed"
    },
    "tags": []
   },
   "source": [
    "As could have been expected, the members use the bikes more than the casual riders during the week, while the usage is comparable during the weekends. \n",
    "\n",
    "I also want to analyze the trends related to the time of the year."
   ]
  },
  {
   "cell_type": "code",
   "execution_count": 22,
   "id": "63bbba10",
   "metadata": {
    "execution": {
     "iopub.execute_input": "2023-07-11T10:36:01.633013Z",
     "iopub.status.busy": "2023-07-11T10:36:01.632667Z",
     "iopub.status.idle": "2023-07-11T10:36:02.119376Z",
     "shell.execute_reply": "2023-07-11T10:36:02.118045Z"
    },
    "papermill": {
     "duration": 0.502341,
     "end_time": "2023-07-11T10:36:02.122027",
     "exception": false,
     "start_time": "2023-07-11T10:36:01.619686",
     "status": "completed"
    },
    "tags": []
   },
   "outputs": [
    {
     "data": {
      "text/html": [
       "<div>\n",
       "<style scoped>\n",
       "    .dataframe tbody tr th:only-of-type {\n",
       "        vertical-align: middle;\n",
       "    }\n",
       "\n",
       "    .dataframe tbody tr th {\n",
       "        vertical-align: top;\n",
       "    }\n",
       "\n",
       "    .dataframe thead th {\n",
       "        text-align: right;\n",
       "    }\n",
       "</style>\n",
       "<table border=\"1\" class=\"dataframe\">\n",
       "  <thead>\n",
       "    <tr style=\"text-align: right;\">\n",
       "      <th>member_casual</th>\n",
       "      <th>casual</th>\n",
       "      <th>member</th>\n",
       "    </tr>\n",
       "    <tr>\n",
       "      <th>started_at</th>\n",
       "      <th></th>\n",
       "      <th></th>\n",
       "    </tr>\n",
       "  </thead>\n",
       "  <tbody>\n",
       "    <tr>\n",
       "      <th>1</th>\n",
       "      <td>25521</td>\n",
       "      <td>102083</td>\n",
       "    </tr>\n",
       "    <tr>\n",
       "      <th>2</th>\n",
       "      <td>28304</td>\n",
       "      <td>100495</td>\n",
       "    </tr>\n",
       "    <tr>\n",
       "      <th>3</th>\n",
       "      <td>40919</td>\n",
       "      <td>133477</td>\n",
       "    </tr>\n",
       "    <tr>\n",
       "      <th>4</th>\n",
       "      <td>99677</td>\n",
       "      <td>191664</td>\n",
       "    </tr>\n",
       "    <tr>\n",
       "      <th>5</th>\n",
       "      <td>161237</td>\n",
       "      <td>259091</td>\n",
       "    </tr>\n",
       "    <tr>\n",
       "      <th>6</th>\n",
       "      <td>269835</td>\n",
       "      <td>302654</td>\n",
       "    </tr>\n",
       "    <tr>\n",
       "      <th>7</th>\n",
       "      <td>289362</td>\n",
       "      <td>304351</td>\n",
       "    </tr>\n",
       "    <tr>\n",
       "      <th>8</th>\n",
       "      <td>251145</td>\n",
       "      <td>311210</td>\n",
       "    </tr>\n",
       "    <tr>\n",
       "      <th>9</th>\n",
       "      <td>203388</td>\n",
       "      <td>288858</td>\n",
       "    </tr>\n",
       "    <tr>\n",
       "      <th>10</th>\n",
       "      <td>137667</td>\n",
       "      <td>237892</td>\n",
       "    </tr>\n",
       "    <tr>\n",
       "      <th>11</th>\n",
       "      <td>65117</td>\n",
       "      <td>160566</td>\n",
       "    </tr>\n",
       "    <tr>\n",
       "      <th>12</th>\n",
       "      <td>27167</td>\n",
       "      <td>89048</td>\n",
       "    </tr>\n",
       "  </tbody>\n",
       "</table>\n",
       "</div>"
      ],
      "text/plain": [
       "member_casual  casual  member\n",
       "started_at                   \n",
       "1               25521  102083\n",
       "2               28304  100495\n",
       "3               40919  133477\n",
       "4               99677  191664\n",
       "5              161237  259091\n",
       "6              269835  302654\n",
       "7              289362  304351\n",
       "8              251145  311210\n",
       "9              203388  288858\n",
       "10             137667  237892\n",
       "11              65117  160566\n",
       "12              27167   89048"
      ]
     },
     "execution_count": 22,
     "metadata": {},
     "output_type": "execute_result"
    }
   ],
   "source": [
    "dts_1.groupby([dts_1.started_at.dt.month, \"member_casual\"])[\"started_at\"].count().unstack(fill_value=0) #unstack creates a dataframe from a multiseries\n",
    "#grouping the data for both the month of the year and the type of membership."
   ]
  },
  {
   "cell_type": "markdown",
   "id": "85f2a16e",
   "metadata": {
    "papermill": {
     "duration": 0.012209,
     "end_time": "2023-07-11T10:36:02.145448",
     "exception": false,
     "start_time": "2023-07-11T10:36:02.133239",
     "status": "completed"
    },
    "tags": []
   },
   "source": [
    "During the summer months people use more bikes, as expected. The use from members is always higher, and it stays much higher during the winter months. "
   ]
  },
  {
   "cell_type": "markdown",
   "id": "46cb0fbf",
   "metadata": {
    "papermill": {
     "duration": 0.010501,
     "end_time": "2023-07-11T10:36:02.167046",
     "exception": false,
     "start_time": "2023-07-11T10:36:02.156545",
     "status": "completed"
    },
    "tags": []
   },
   "source": [
    " # Share\n",
    " \n",
    "Now that I am defined some differences in the usage, I will create some visualizations to share my findings and make them clearer. \n",
    "\n",
    "First of all, let's start with the differences in number of rides per membership type.\n"
   ]
  },
  {
   "cell_type": "code",
   "execution_count": 23,
   "id": "33ea6f00",
   "metadata": {
    "execution": {
     "iopub.execute_input": "2023-07-11T10:36:02.191158Z",
     "iopub.status.busy": "2023-07-11T10:36:02.190767Z",
     "iopub.status.idle": "2023-07-11T10:36:02.524634Z",
     "shell.execute_reply": "2023-07-11T10:36:02.523761Z"
    },
    "papermill": {
     "duration": 0.349078,
     "end_time": "2023-07-11T10:36:02.527089",
     "exception": false,
     "start_time": "2023-07-11T10:36:02.178011",
     "status": "completed"
    },
    "tags": []
   },
   "outputs": [
    {
     "data": {
      "image/png": "[encoded data removed]",
      "text/plain": [
       "<Figure size 640x480 with 1 Axes>"
      ]
     },
     "metadata": {},
     "output_type": "display_data"
    }
   ],
   "source": [
    "plt.pie(dts_1.member_casual.value_counts(normalize = True), labels = [\"Members\", \"Casual riders\"], autopct='%.0f%%')\n",
    "plt.show()"
   ]
  },
  {
   "cell_type": "markdown",
   "id": "79982dec",
   "metadata": {
    "papermill": {
     "duration": 0.013425,
     "end_time": "2023-07-11T10:36:02.554809",
     "exception": false,
     "start_time": "2023-07-11T10:36:02.541384",
     "status": "completed"
    },
    "tags": []
   },
   "source": [
    "From the pie chart is clear that most of the rides are made by members. This is good, but there is still almost 40% of rides that are made by non-members. \n",
    "Let's focus on the differences in behaviour between members and casual riders."
   ]
  },
  {
   "cell_type": "code",
   "execution_count": 24,
   "id": "bb69cbfe",
   "metadata": {
    "execution": {
     "iopub.execute_input": "2023-07-11T10:36:02.584559Z",
     "iopub.status.busy": "2023-07-11T10:36:02.584139Z",
     "iopub.status.idle": "2023-07-11T10:36:03.193198Z",
     "shell.execute_reply": "2023-07-11T10:36:03.192176Z"
    },
    "papermill": {
     "duration": 0.626735,
     "end_time": "2023-07-11T10:36:03.195458",
     "exception": false,
     "start_time": "2023-07-11T10:36:02.568723",
     "status": "completed"
    },
    "tags": []
   },
   "outputs": [
    {
     "data": {
      "image/png": "[encoded data removed]",
      "text/plain": [
       "<Figure size 640x480 with 1 Axes>"
      ]
     },
     "metadata": {},
     "output_type": "display_data"
    }
   ],
   "source": [
    "table_3 = pd.pivot_table(dts_1, values = \"ride_length\", index = \"member_casual\", #I was habing trouble with this, the problem was that I was trying to make a separate \n",
    "                         aggfunc = np.mean).astype('timedelta64[m]') #graph and that the time was in seconds\n",
    "\n",
    "table_3.plot.bar(xlabel = \"Type of membership\",ylabel = \"Average length of ride (minutes)\", rot = 0)\n",
    "plt.show()"
   ]
  },
  {
   "cell_type": "markdown",
   "id": "a4414a5a",
   "metadata": {
    "papermill": {
     "duration": 0.011089,
     "end_time": "2023-07-11T10:36:03.219026",
     "exception": false,
     "start_time": "2023-07-11T10:36:03.207937",
     "status": "completed"
    },
    "tags": []
   },
   "source": [
    "The graph shws how the average length of ride for the members is shorter than the ones for the casual riders. This suggests that members use more rides, for shorter distances. \n",
    "I can also check the behaviour of the riders when linked to the day of the week and to the season."
   ]
  },
  {
   "cell_type": "code",
   "execution_count": 25,
   "id": "35a76af0",
   "metadata": {
    "execution": {
     "iopub.execute_input": "2023-07-11T10:36:03.242778Z",
     "iopub.status.busy": "2023-07-11T10:36:03.242459Z",
     "iopub.status.idle": "2023-07-11T10:36:03.960643Z",
     "shell.execute_reply": "2023-07-11T10:36:03.959140Z"
    },
    "papermill": {
     "duration": 0.732669,
     "end_time": "2023-07-11T10:36:03.963045",
     "exception": false,
     "start_time": "2023-07-11T10:36:03.230376",
     "status": "completed"
    },
    "tags": []
   },
   "outputs": [
    {
     "data": {
      "image/png": "[encoded data removed]",
      "text/plain": [
       "<Figure size 640x480 with 1 Axes>"
      ]
     },
     "metadata": {},
     "output_type": "display_data"
    }
   ],
   "source": [
    "table_4 = pd.pivot_table(dts_1, values = \"ride_length\", index = \"day_of_the_week\", columns = \"member_casual\",\n",
    "                       aggfunc = \"count\")\n",
    "\n",
    "table_4.plot.bar(xlabel = \"Day of the week\", ylabel = \"Number of rides\", rot = 0)\n",
    "plt.show()"
   ]
  },
  {
   "cell_type": "code",
   "execution_count": 26,
   "id": "0a1dc5c4",
   "metadata": {
    "execution": {
     "iopub.execute_input": "2023-07-11T10:36:03.987936Z",
     "iopub.status.busy": "2023-07-11T10:36:03.987579Z",
     "iopub.status.idle": "2023-07-11T10:36:04.772021Z",
     "shell.execute_reply": "2023-07-11T10:36:04.770284Z"
    },
    "papermill": {
     "duration": 0.800399,
     "end_time": "2023-07-11T10:36:04.775050",
     "exception": false,
     "start_time": "2023-07-11T10:36:03.974651",
     "status": "completed"
    },
    "tags": []
   },
   "outputs": [
    {
     "data": {
      "image/png": "[encoded data removed]",
      "text/plain": [
       "<Figure size 640x480 with 1 Axes>"
      ]
     },
     "metadata": {},
     "output_type": "display_data"
    }
   ],
   "source": [
    "dts_1.groupby([dts_1.started_at.dt.month, \"member_casual\"])[\"started_at\"].count().unstack(fill_value=0).plot.bar(xlabel = \"Month\",\n",
    "                                                                                                              ylabel= \"Count of rides\",\n",
    "                                                                                                              rot = 0)\n",
    "plt.show()"
   ]
  },
  {
   "cell_type": "code",
   "execution_count": 27,
   "id": "c730e9fa",
   "metadata": {
    "execution": {
     "iopub.execute_input": "2023-07-11T10:36:04.802521Z",
     "iopub.status.busy": "2023-07-11T10:36:04.802169Z",
     "iopub.status.idle": "2023-07-11T10:36:05.745705Z",
     "shell.execute_reply": "2023-07-11T10:36:05.743694Z"
    },
    "papermill": {
     "duration": 0.960508,
     "end_time": "2023-07-11T10:36:05.748331",
     "exception": false,
     "start_time": "2023-07-11T10:36:04.787823",
     "status": "completed"
    },
    "tags": []
   },
   "outputs": [
    {
     "data": {
      "image/png": "[encoded data removed]",
      "text/plain": [
       "<Figure size 640x480 with 1 Axes>"
      ]
     },
     "metadata": {},
     "output_type": "display_data"
    }
   ],
   "source": [
    "dts_1.groupby([dts_1.started_at.dt.hour, \"member_casual\"])[\"started_at\"].count().unstack(fill_value=0).plot.bar(xlabel = \"Hour of the day\",\n",
    "                                                                                                              ylabel= \"Count of rides\",\n",
    "                                                                                                              rot = 0)\n",
    "plt.show()"
   ]
  },
  {
   "cell_type": "markdown",
   "id": "bfedfaa5",
   "metadata": {
    "papermill": {
     "duration": 0.012904,
     "end_time": "2023-07-11T10:36:05.775699",
     "exception": false,
     "start_time": "2023-07-11T10:36:05.762795",
     "status": "completed"
    },
    "tags": []
   },
   "source": [
    "From the graph of the weekdays we can see how during the week the majority of rides are made by members, while during the weekends the members seem to use the bikes less while the casual riders.\n",
    "From the distribution of rides during the year we can see that members use the bikes more consistently during the year, while casual riders mainly use them during the summer months.\n",
    "In addition, the members consisntely use the bikes more than the casual riders at almost all the times in the day (apart from late night), but the contrast is much bigger when it comes to the commuting hours, suggesting that the members use the bikes for their commute.\n",
    "\n",
    "## Deliverables\n",
    "\n",
    "All the above visualizations.\n",
    "\n",
    "Key insights:\n",
    "\n",
    "* Almost 40% of rides are made by casual riders\n",
    "\n",
    "* Members seem to use the bikes more frequently, for shorter periods of time.\n",
    "\n",
    "* Members consistently use the bikes during the week and the year, while the casual riders use them more in the weekends and during the summer months.\n",
    "\n",
    "* Members use the bikes very much for commuting."
   ]
  },
  {
   "cell_type": "markdown",
   "id": "84714a8c",
   "metadata": {
    "papermill": {
     "duration": 0.013242,
     "end_time": "2023-07-11T10:36:05.801551",
     "exception": false,
     "start_time": "2023-07-11T10:36:05.788309",
     "status": "completed"
    },
    "tags": []
   },
   "source": [
    "# Act\n",
    "\n",
    "## Deliverables\n",
    "\n",
    "My top 3 suggestions:\n",
    "\n",
    "1.  Since the members use bikes a lot for commuting, maybe a campaign focused on this could help convert casual riders to commuters.\n",
    "\n",
    "2. Another difference is the use during the year: members use the bike more consistently during the year, while casual riders use them mainly during the summer. A winter campaign/sale could help convert casual riders.\n",
    "\n",
    "3. Additional data could be useful: for example, it could be useful to divide the casual riders in single rides or in daily passes, because it might be easier to convert to members casual riders using daily passes.\n",
    "\n"
   ]
  },
  {
   "cell_type": "code",
   "execution_count": null,
   "id": "5e5e54b3",
   "metadata": {
    "papermill": {
     "duration": 0.012558,
     "end_time": "2023-07-11T10:36:05.827358",
     "exception": false,
     "start_time": "2023-07-11T10:36:05.814800",
     "status": "completed"
    },
    "tags": []
   },
   "outputs": [],
   "source": []
  }
 ],
 "metadata": {
  "kernelspec": {
   "display_name": "Python 3",
   "language": "python",
   "name": "python3"
  },
  "language_info": {
   "codemirror_mode": {
    "name": "ipython",
    "version": 3
   },
   "file_extension": ".py",
   "mimetype": "text/x-python",
   "name": "python",
   "nbconvert_exporter": "python",
   "pygments_lexer": "ipython3",
   "version": "3.10.10"
  },
  "papermill": {
   "default_parameters": {},
   "duration": 98.033969,
   "end_time": "2023-07-11T10:36:07.568024",
   "environment_variables": {},
   "exception": null,
   "input_path": "__notebook__.ipynb",
   "output_path": "__notebook__.ipynb",
   "parameters": {},
   "start_time": "2023-07-11T10:34:29.534055",
   "version": "2.4.0"
  }
 },
 "nbformat": 4,
 "nbformat_minor": 5
}
