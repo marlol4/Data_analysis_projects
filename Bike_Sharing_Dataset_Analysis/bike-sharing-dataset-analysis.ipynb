{
 "cells": [
  {
   "cell_type": "code",
   "execution_count": 1,
   "id": "b19fdfc5",
   "metadata": {
    "_cell_guid": "b1076dfc-b9ad-4769-8c92-a6c4dae69d19",
    "_kg_hide-input": true,
    "_kg_hide-output": true,
    "_uuid": "8f2839f25d086af736a60e9eeb907d3b93b6e0e5",
    "execution": {
     "iopub.execute_input": "2023-07-10T08:04:22.978680Z",
     "iopub.status.busy": "2023-07-10T08:04:22.978312Z",
     "iopub.status.idle": "2023-07-10T08:04:23.003386Z",
     "shell.execute_reply": "2023-07-10T08:04:23.002360Z"
    },
    "papermill": {
     "duration": 0.03962,
     "end_time": "2023-07-10T08:04:23.005787",
     "exception": false,
     "start_time": "2023-07-10T08:04:22.966167",
     "status": "completed"
    },
    "tags": []
   },
   "outputs": [
    {
     "name": "stdout",
     "output_type": "stream",
     "text": [
      "/kaggle/input/062022-052023-cyclistic-trip-data/2022-07_trip-data.csv\n",
      "/kaggle/input/062022-052023-cyclistic-trip-data/2023-03_trip-data.csv\n",
      "/kaggle/input/062022-052023-cyclistic-trip-data/2022-08_tripdata.csv\n",
      "/kaggle/input/062022-052023-cyclistic-trip-data/2022-06_trip-data.csv\n",
      "/kaggle/input/062022-052023-cyclistic-trip-data/2022-12_trip-data.csv\n",
      "/kaggle/input/062022-052023-cyclistic-trip-data/2022-10_trip-data.csv\n",
      "/kaggle/input/062022-052023-cyclistic-trip-data/2023-01_trip-data.csv\n",
      "/kaggle/input/062022-052023-cyclistic-trip-data/2023-04_trip-data.csv\n",
      "/kaggle/input/062022-052023-cyclistic-trip-data/2022-09_trip-data.csv\n",
      "/kaggle/input/062022-052023-cyclistic-trip-data/2023-02_trip-data.csv\n",
      "/kaggle/input/062022-052023-cyclistic-trip-data/2023-05-trip-data.csv\n",
      "/kaggle/input/062022-052023-cyclistic-trip-data/2022-11_trip-data.csv\n"
     ]
    }
   ],
   "source": [
    "import numpy as np # linear algebra\n",
    "import pandas as pd # data processing, CSV file I/O (e.g. pd.read_csv)\n",
    "\n",
    "# Input data files are available in the read-only \"../input/\" directory\n",
    "# For example, running this (by clicking run or pressing Shift+Enter) will list all files under the input directory\n",
    "\n",
    "import os\n",
    "for dirname, _, filenames in os.walk('/kaggle/input'):\n",
    "    for filename in filenames:\n",
    "        print(os.path.join(dirname, filename))\n",
    "\n",
    "# You can write up to 20GB to the current directory (/kaggle/working/) that gets preserved as output when you create a version using \"Save & Run All\" \n",
    "# You can also write temporary files to /kaggle/temp/, but they won't be saved outside of the current session"
   ]
  },
  {
   "cell_type": "markdown",
   "id": "b53383ab",
   "metadata": {
    "papermill": {
     "duration": 0.009477,
     "end_time": "2023-07-10T08:04:23.026643",
     "exception": false,
     "start_time": "2023-07-10T08:04:23.017166",
     "status": "completed"
    },
    "tags": []
   },
   "source": [
    "This is the start of my capstone project for the Google analytics certificate.\n",
    "\n",
    "I will follow the 7 phases used in the certificate: **ask**, **prepare**, **process**, **analyze**, **share** and **act**.\n",
    "\n",
    "Let's start with the context provided.\n",
    "\n",
    "## Scenario\n",
    "\n",
    "You are a junior data analyst working in the marketing analyst team at Cyclistic, a bike-share company in Chicago. The director of marketing believes the company’s future success depends on maximizing the number of annual memberships. Therefore, your team wants to understand how casual riders and annual members use Cyclistic bikes differently. From these insights, your team will design a new marketing strategy to convert casual riders into annual members. But first, Cyclistic executives must approve your recommendations, so they must be backed up with compelling data insights and professional data visualizations.\n",
    "\n",
    "## Characters and teams\n",
    "\n",
    "* Cyclistic: A bike-share program that features more than 5,800 bicycles and 600 docking stations. Cyclistic sets itself apart by also offering reclining bikes, hand tricycles, and cargo bikes, making bike-share more inclusive to people with disabilities and riders who can’t use a standard two-wheeled bike. The majority of riders opt for traditional bikes; about 8% of riders use the assistive options. Cyclistic users are more likely to ride for leisure, but about 30% use them to commute to work each day.\n",
    "\n",
    "* Lily Moreno: The director of marketing and your manager. Moreno is responsible for the development of campaigns and initiatives to promote the bike-share program. These may include email, social media, and other channels.\n",
    "\n",
    "* Cyclistic marketing analytics team: A team of data analysts who are responsible for collecting, analyzing, and reporting data that helps guide Cyclistic marketing strategy. You joined this team six months ago and have been busy learning about Cyclistic’s mission and business goals — as well as how you, as a junior data analyst, can help Cyclistic achieve them.\n",
    "\n",
    "* Cyclistic executive team: The notoriously detail-oriented executive team will decide whether to approve the recommended marketing program.\n",
    "\n",
    "## About the company\n",
    "In 2016, Cyclistic launched a successful bike-share offering. Since then, the program has grown to a fleet of 5,824 bicycles that are geotracked and locked into a network of 692 stations across Chicago. The bikes can be unlocked from one station and returned to any other station in the system anytime.\n",
    "Until now, Cyclistic’s marketing strategy relied on building general awareness and appealing to broad consumer segments. One approach that helped make these things possible was the flexibility of its pricing plans: single-ride passes, full-day passes, and annual memberships. Customers who purchase single-ride or full-day passes are referred to as casual riders. Customers who purchase annual memberships are Cyclistic members.\n",
    "Cyclistic’s finance analysts have concluded that annual members are much more profitable than casual riders. Although the pricing flexibility helps Cyclistic attract more customers, Moreno believes that maximizing the number of annual members will be key to future growth. Rather than creating a marketing campaign that targets all-new customers, Moreno believes there is a very good chance to convert casual riders into members. She notes that casual riders are already aware of the Cyclistic program and have chosen Cyclistic for their mobility needs.\n",
    "Moreno has set a clear goal: Design marketing strategies aimed at converting casual riders into annual members. In order to do that, however, the marketing analyst team needs to better understand how annual members and casual riders differ, why casual riders would buy a membership, and how digital media could affect their marketing tactics. Moreno and her team are interested in analyzing the Cyclistic historical bike trip data to identify trends.\n",
    "\n",
    "## Questions\n",
    "Three questions will guide the future marketing program:\n",
    "1. How do annual members and casual riders use Cyclistic bikes differently?\n",
    "2. Why would casual riders buy Cyclistic annual memberships?\n",
    "3. How can Cyclistic use digital media to influence casual riders to become members?\n",
    "\n",
    "Moreno has assigned you the first question to answer: How do annual members and casual riders use Cyclistic bikes differently?\n",
    "You will produce a report with the following **deliverables**:\n",
    "1. A clear statement of the business task\n",
    "2. A description of all data sources used\n",
    "3. Documentation of any cleaning or manipulation of data\n",
    "4. A summary of your analysis\n",
    "5. Supporting visualizations and key findings\n",
    "6. Your top three recommendations based on your analysis\n",
    "\n",
    "# Ask\n",
    "\n",
    "### Guiding questions \n",
    "* Whats is the problem you are trying to solve?\n",
    "\n",
    "The problem I am trying to solve is to determine the differences in use of bikes between causal riders and annual members.\n",
    "* How can your insight drive business decisions?\n",
    "\n",
    "The insights from my analysis will help drive business decisions by helping the marketing team to create strategies to convert casual riders into annual members.\n",
    "\n",
    "### Key tasks\n",
    "1. Identify the business task\n",
    "\n",
    "The business task is to define the differences between casual riders and annual members with the aim to use this information to convert casual riders into annual members,\n",
    "2. Consider key stakeholders\n",
    "\n",
    "The key stakeholders are the director of marketing and the executive team. \n",
    "\n",
    "### Deliverables\n",
    "**A clear statement of the business task.**\n",
    "\n",
    "The business task is to convert casual riders into annual members, by better understanding the differences between them.\n",
    "\n",
    "# Prepare\n",
    "\n",
    "The data that I will be using has been made available as public data by Motivate International inc. and it is avalaible for download [here](https://divvy-tripdata.s3.amazonaws.com/index.html). The data is avalible under this [license](https://ride.divvybikes.com/data-license-agreement).\n",
    "\n",
    "The dataset is composed of 12 months of data stored in 12 .csv files and has been downloaded from [this](https://www.kaggle.com/datasets/evangower/cyclistic-case-study) Kaggle dataset.\n",
    "\n",
    "I will first upload the data and store them.\n",
    "\n"
   ]
  },
  {
   "cell_type": "code",
   "execution_count": 2,
   "id": "e257b31c",
   "metadata": {
    "execution": {
     "iopub.execute_input": "2023-07-10T08:04:23.048597Z",
     "iopub.status.busy": "2023-07-10T08:04:23.047899Z",
     "iopub.status.idle": "2023-07-10T08:04:24.581485Z",
     "shell.execute_reply": "2023-07-10T08:04:24.579996Z"
    },
    "papermill": {
     "duration": 1.548191,
     "end_time": "2023-07-10T08:04:24.583897",
     "exception": false,
     "start_time": "2023-07-10T08:04:23.035706",
     "status": "completed"
    },
    "tags": []
   },
   "outputs": [],
   "source": [
    "import numpy as np # linear algebra\n",
    "import pandas as pd # data processing, CSV file I/O (e.g. pd.read_csv)\n",
    "import os\n",
    "import glob\n",
    "import matplotlib.pyplot as plt\n",
    "import seaborn as sns\n",
    "\n",
    "sns.set_theme()"
   ]
  },
  {
   "cell_type": "code",
   "execution_count": 3,
   "id": "a5648e24",
   "metadata": {
    "execution": {
     "iopub.execute_input": "2023-07-10T08:04:24.601911Z",
     "iopub.status.busy": "2023-07-10T08:04:24.601575Z",
     "iopub.status.idle": "2023-07-10T08:04:55.642106Z",
     "shell.execute_reply": "2023-07-10T08:04:55.640880Z"
    },
    "papermill": {
     "duration": 31.052568,
     "end_time": "2023-07-10T08:04:55.644763",
     "exception": false,
     "start_time": "2023-07-10T08:04:24.592195",
     "status": "completed"
    },
    "tags": []
   },
   "outputs": [],
   "source": [
    "#import all the files in the dataset folder\n",
    "\n",
    "path = r\"/kaggle/input/062022-052023-cyclistic-trip-data\"\n",
    "\n",
    "filenames = glob.glob(path + \"/*.csv\")\n",
    "\n",
    "datanames = [\"data_1\", \"data_2\", \"data_3\", \"data_4\", \"data_5\", \"data_6\", \"data_7\", \"data_8\",\n",
    "             \"data_9\", \"data_10\",\"data_11\", \"data_12\"]\n",
    "x=0\n",
    "dts = {}  #create a dictionary to contain the datasets\n",
    "\n",
    "for file in filenames:\n",
    "    dts[datanames[x]] = pd.read_csv(file, header = 0)\n",
    "    x+=1"
   ]
  },
  {
   "cell_type": "markdown",
   "id": "add8f85b",
   "metadata": {
    "papermill": {
     "duration": 0.008017,
     "end_time": "2023-07-10T08:04:55.661250",
     "exception": false,
     "start_time": "2023-07-10T08:04:55.653233",
     "status": "completed"
    },
    "tags": []
   },
   "source": [
    "Now that the data is stored, I will do some preparatory data exploration. I will first check the columns of the first dataset (corresponding to 2022_07).\n"
   ]
  },
  {
   "cell_type": "code",
   "execution_count": 4,
   "id": "f62dc9ef",
   "metadata": {
    "execution": {
     "iopub.execute_input": "2023-07-10T08:04:55.679374Z",
     "iopub.status.busy": "2023-07-10T08:04:55.679031Z",
     "iopub.status.idle": "2023-07-10T08:04:55.688243Z",
     "shell.execute_reply": "2023-07-10T08:04:55.686584Z"
    },
    "papermill": {
     "duration": 0.021062,
     "end_time": "2023-07-10T08:04:55.690598",
     "exception": false,
     "start_time": "2023-07-10T08:04:55.669536",
     "status": "completed"
    },
    "tags": []
   },
   "outputs": [
    {
     "data": {
      "text/plain": [
       "Index(['ride_id', 'rideable_type', 'started_at', 'ended_at',\n",
       "       'start_station_name', 'start_station_id', 'end_station_name',\n",
       "       'end_station_id', 'start_lat', 'start_lng', 'end_lat', 'end_lng',\n",
       "       'member_casual'],\n",
       "      dtype='object')"
      ]
     },
     "execution_count": 4,
     "metadata": {},
     "output_type": "execute_result"
    }
   ],
   "source": [
    "dts[\"data_1\"].columns"
   ]
  },
  {
   "cell_type": "markdown",
   "id": "0e486f46",
   "metadata": {
    "papermill": {
     "duration": 0.007924,
     "end_time": "2023-07-10T08:04:55.706980",
     "exception": false,
     "start_time": "2023-07-10T08:04:55.699056",
     "status": "completed"
    },
    "tags": []
   },
   "source": [
    "The data_1 dataset contains 13 columns. I can use this fact to check that all the other dataset contain the same number of columns, that are probably going to be the same columns. "
   ]
  },
  {
   "cell_type": "code",
   "execution_count": 5,
   "id": "e4cee1eb",
   "metadata": {
    "execution": {
     "iopub.execute_input": "2023-07-10T08:04:55.725983Z",
     "iopub.status.busy": "2023-07-10T08:04:55.725636Z",
     "iopub.status.idle": "2023-07-10T08:04:55.730715Z",
     "shell.execute_reply": "2023-07-10T08:04:55.729709Z"
    },
    "papermill": {
     "duration": 0.017281,
     "end_time": "2023-07-10T08:04:55.732588",
     "exception": false,
     "start_time": "2023-07-10T08:04:55.715307",
     "status": "completed"
    },
    "tags": []
   },
   "outputs": [
    {
     "name": "stdout",
     "output_type": "stream",
     "text": [
      "13\n",
      "13\n",
      "13\n",
      "13\n",
      "13\n",
      "13\n",
      "13\n",
      "13\n",
      "13\n",
      "13\n",
      "13\n",
      "13\n"
     ]
    }
   ],
   "source": [
    "for key in dts:\n",
    "    print(len(dts[key].columns))"
   ]
  },
  {
   "cell_type": "markdown",
   "id": "045f1d2b",
   "metadata": {
    "papermill": {
     "duration": 0.007998,
     "end_time": "2023-07-10T08:04:55.749382",
     "exception": false,
     "start_time": "2023-07-10T08:04:55.741384",
     "status": "completed"
    },
    "tags": []
   },
   "source": [
    "All the datasets contain 13 columns. I can use the function head() to get an understanding of the dataset more in detail."
   ]
  },
  {
   "cell_type": "code",
   "execution_count": 6,
   "id": "1a12d0e5",
   "metadata": {
    "execution": {
     "iopub.execute_input": "2023-07-10T08:04:55.767242Z",
     "iopub.status.busy": "2023-07-10T08:04:55.766865Z",
     "iopub.status.idle": "2023-07-10T08:04:55.801174Z",
     "shell.execute_reply": "2023-07-10T08:04:55.799648Z"
    },
    "papermill": {
     "duration": 0.046226,
     "end_time": "2023-07-10T08:04:55.803843",
     "exception": false,
     "start_time": "2023-07-10T08:04:55.757617",
     "status": "completed"
    },
    "tags": []
   },
   "outputs": [
    {
     "data": {
      "text/html": [
       "<div>\n",
       "<style scoped>\n",
       "    .dataframe tbody tr th:only-of-type {\n",
       "        vertical-align: middle;\n",
       "    }\n",
       "\n",
       "    .dataframe tbody tr th {\n",
       "        vertical-align: top;\n",
       "    }\n",
       "\n",
       "    .dataframe thead th {\n",
       "        text-align: right;\n",
       "    }\n",
       "</style>\n",
       "<table border=\"1\" class=\"dataframe\">\n",
       "  <thead>\n",
       "    <tr style=\"text-align: right;\">\n",
       "      <th></th>\n",
       "      <th>ride_id</th>\n",
       "      <th>rideable_type</th>\n",
       "      <th>started_at</th>\n",
       "      <th>ended_at</th>\n",
       "      <th>start_station_name</th>\n",
       "      <th>start_station_id</th>\n",
       "      <th>end_station_name</th>\n",
       "      <th>end_station_id</th>\n",
       "      <th>start_lat</th>\n",
       "      <th>start_lng</th>\n",
       "      <th>end_lat</th>\n",
       "      <th>end_lng</th>\n",
       "      <th>member_casual</th>\n",
       "    </tr>\n",
       "  </thead>\n",
       "  <tbody>\n",
       "    <tr>\n",
       "      <th>0</th>\n",
       "      <td>954144C2F67B1932</td>\n",
       "      <td>classic_bike</td>\n",
       "      <td>2022-07-05 08:12:47</td>\n",
       "      <td>2022-07-05 08:24:32</td>\n",
       "      <td>Ashland Ave &amp; Blackhawk St</td>\n",
       "      <td>13224</td>\n",
       "      <td>Kingsbury St &amp; Kinzie St</td>\n",
       "      <td>KA1503000043</td>\n",
       "      <td>41.907066</td>\n",
       "      <td>-87.667252</td>\n",
       "      <td>41.889177</td>\n",
       "      <td>-87.638506</td>\n",
       "      <td>member</td>\n",
       "    </tr>\n",
       "    <tr>\n",
       "      <th>1</th>\n",
       "      <td>292E027607D218B6</td>\n",
       "      <td>classic_bike</td>\n",
       "      <td>2022-07-26 12:53:38</td>\n",
       "      <td>2022-07-26 12:55:31</td>\n",
       "      <td>Buckingham Fountain (Temp)</td>\n",
       "      <td>15541</td>\n",
       "      <td>Michigan Ave &amp; 8th St</td>\n",
       "      <td>623</td>\n",
       "      <td>41.869621</td>\n",
       "      <td>-87.623981</td>\n",
       "      <td>41.872773</td>\n",
       "      <td>-87.623981</td>\n",
       "      <td>casual</td>\n",
       "    </tr>\n",
       "    <tr>\n",
       "      <th>2</th>\n",
       "      <td>57765852588AD6E0</td>\n",
       "      <td>classic_bike</td>\n",
       "      <td>2022-07-03 13:58:49</td>\n",
       "      <td>2022-07-03 14:06:32</td>\n",
       "      <td>Buckingham Fountain (Temp)</td>\n",
       "      <td>15541</td>\n",
       "      <td>Michigan Ave &amp; 8th St</td>\n",
       "      <td>623</td>\n",
       "      <td>41.869621</td>\n",
       "      <td>-87.623981</td>\n",
       "      <td>41.872773</td>\n",
       "      <td>-87.623981</td>\n",
       "      <td>casual</td>\n",
       "    </tr>\n",
       "    <tr>\n",
       "      <th>3</th>\n",
       "      <td>B5B6BE44314590E6</td>\n",
       "      <td>classic_bike</td>\n",
       "      <td>2022-07-31 17:44:21</td>\n",
       "      <td>2022-07-31 18:42:50</td>\n",
       "      <td>Buckingham Fountain (Temp)</td>\n",
       "      <td>15541</td>\n",
       "      <td>Woodlawn Ave &amp; 55th St</td>\n",
       "      <td>TA1307000164</td>\n",
       "      <td>41.869621</td>\n",
       "      <td>-87.623981</td>\n",
       "      <td>41.795264</td>\n",
       "      <td>-87.596471</td>\n",
       "      <td>casual</td>\n",
       "    </tr>\n",
       "    <tr>\n",
       "      <th>4</th>\n",
       "      <td>A4C331F2A00E79E0</td>\n",
       "      <td>classic_bike</td>\n",
       "      <td>2022-07-13 19:49:06</td>\n",
       "      <td>2022-07-13 20:15:24</td>\n",
       "      <td>Wabash Ave &amp; Grand Ave</td>\n",
       "      <td>TA1307000117</td>\n",
       "      <td>Sheffield Ave &amp; Wellington Ave</td>\n",
       "      <td>TA1307000052</td>\n",
       "      <td>41.891466</td>\n",
       "      <td>-87.626761</td>\n",
       "      <td>41.936253</td>\n",
       "      <td>-87.652662</td>\n",
       "      <td>member</td>\n",
       "    </tr>\n",
       "  </tbody>\n",
       "</table>\n",
       "</div>"
      ],
      "text/plain": [
       "            ride_id rideable_type           started_at             ended_at  \\\n",
       "0  954144C2F67B1932  classic_bike  2022-07-05 08:12:47  2022-07-05 08:24:32   \n",
       "1  292E027607D218B6  classic_bike  2022-07-26 12:53:38  2022-07-26 12:55:31   \n",
       "2  57765852588AD6E0  classic_bike  2022-07-03 13:58:49  2022-07-03 14:06:32   \n",
       "3  B5B6BE44314590E6  classic_bike  2022-07-31 17:44:21  2022-07-31 18:42:50   \n",
       "4  A4C331F2A00E79E0  classic_bike  2022-07-13 19:49:06  2022-07-13 20:15:24   \n",
       "\n",
       "           start_station_name start_station_id  \\\n",
       "0  Ashland Ave & Blackhawk St            13224   \n",
       "1  Buckingham Fountain (Temp)            15541   \n",
       "2  Buckingham Fountain (Temp)            15541   \n",
       "3  Buckingham Fountain (Temp)            15541   \n",
       "4      Wabash Ave & Grand Ave     TA1307000117   \n",
       "\n",
       "                 end_station_name end_station_id  start_lat  start_lng  \\\n",
       "0        Kingsbury St & Kinzie St   KA1503000043  41.907066 -87.667252   \n",
       "1           Michigan Ave & 8th St            623  41.869621 -87.623981   \n",
       "2           Michigan Ave & 8th St            623  41.869621 -87.623981   \n",
       "3          Woodlawn Ave & 55th St   TA1307000164  41.869621 -87.623981   \n",
       "4  Sheffield Ave & Wellington Ave   TA1307000052  41.891466 -87.626761   \n",
       "\n",
       "     end_lat    end_lng member_casual  \n",
       "0  41.889177 -87.638506        member  \n",
       "1  41.872773 -87.623981        casual  \n",
       "2  41.872773 -87.623981        casual  \n",
       "3  41.795264 -87.596471        casual  \n",
       "4  41.936253 -87.652662        member  "
      ]
     },
     "execution_count": 6,
     "metadata": {},
     "output_type": "execute_result"
    }
   ],
   "source": [
    "dts[\"data_1\"].head()"
   ]
  },
  {
   "cell_type": "markdown",
   "id": "f9de2428",
   "metadata": {
    "papermill": {
     "duration": 0.008604,
     "end_time": "2023-07-10T08:04:55.821469",
     "exception": false,
     "start_time": "2023-07-10T08:04:55.812865",
     "status": "completed"
    },
    "tags": []
   },
   "source": [
    "The last column, \"member_casual\", is probably going to be very important later. Probably quite important will be also the times for the trips (maybe there will be some trend for the lenght in time of the trip) and maybe also the station names (maybe some are more frequently used than others).\n",
    "\n",
    "It seems, at a first glance, that some of these information might not be very consistent. For example, I see that Buckingham Fountain (Temp) presents this (Temp) not present in other names and, more importantly, it does not look like the station ids are consistent.\n",
    "\n",
    "### Deliverable: \n",
    "\n",
    "A description of all data sources used.\n",
    "\n",
    "The data sources are 12 .csv datasets, each one referring to a single month of the year. These datasets present 13 columns containing information related to the individual bikeride.\n",
    "\n",
    "# Process\n",
    "\n",
    "Now, I will move to processing my data before my data analysis. I will focus on sorting the data, filtering them and cleaning them to ensure the best analysis possible. \n",
    "\n",
    "I will start by merging all the datasets in a single one."
   ]
  },
  {
   "cell_type": "code",
   "execution_count": 7,
   "id": "388f08c1",
   "metadata": {
    "execution": {
     "iopub.execute_input": "2023-07-10T08:04:55.840466Z",
     "iopub.status.busy": "2023-07-10T08:04:55.840086Z",
     "iopub.status.idle": "2023-07-10T08:04:57.179949Z",
     "shell.execute_reply": "2023-07-10T08:04:57.178484Z"
    },
    "papermill": {
     "duration": 1.353357,
     "end_time": "2023-07-10T08:04:57.183501",
     "exception": false,
     "start_time": "2023-07-10T08:04:55.830144",
     "status": "completed"
    },
    "tags": []
   },
   "outputs": [],
   "source": [
    "dts = pd.concat(dts.values())"
   ]
  },
  {
   "cell_type": "code",
   "execution_count": 8,
   "id": "55446e73",
   "metadata": {
    "execution": {
     "iopub.execute_input": "2023-07-10T08:04:57.203653Z",
     "iopub.status.busy": "2023-07-10T08:04:57.203248Z",
     "iopub.status.idle": "2023-07-10T08:04:57.220354Z",
     "shell.execute_reply": "2023-07-10T08:04:57.218927Z"
    },
    "papermill": {
     "duration": 0.029623,
     "end_time": "2023-07-10T08:04:57.222725",
     "exception": false,
     "start_time": "2023-07-10T08:04:57.193102",
     "status": "completed"
    },
    "tags": []
   },
   "outputs": [
    {
     "data": {
      "text/html": [
       "<div>\n",
       "<style scoped>\n",
       "    .dataframe tbody tr th:only-of-type {\n",
       "        vertical-align: middle;\n",
       "    }\n",
       "\n",
       "    .dataframe tbody tr th {\n",
       "        vertical-align: top;\n",
       "    }\n",
       "\n",
       "    .dataframe thead th {\n",
       "        text-align: right;\n",
       "    }\n",
       "</style>\n",
       "<table border=\"1\" class=\"dataframe\">\n",
       "  <thead>\n",
       "    <tr style=\"text-align: right;\">\n",
       "      <th></th>\n",
       "      <th>ride_id</th>\n",
       "      <th>rideable_type</th>\n",
       "      <th>started_at</th>\n",
       "      <th>ended_at</th>\n",
       "      <th>start_station_name</th>\n",
       "      <th>start_station_id</th>\n",
       "      <th>end_station_name</th>\n",
       "      <th>end_station_id</th>\n",
       "      <th>start_lat</th>\n",
       "      <th>start_lng</th>\n",
       "      <th>end_lat</th>\n",
       "      <th>end_lng</th>\n",
       "      <th>member_casual</th>\n",
       "    </tr>\n",
       "  </thead>\n",
       "  <tbody>\n",
       "    <tr>\n",
       "      <th>0</th>\n",
       "      <td>954144C2F67B1932</td>\n",
       "      <td>classic_bike</td>\n",
       "      <td>2022-07-05 08:12:47</td>\n",
       "      <td>2022-07-05 08:24:32</td>\n",
       "      <td>Ashland Ave &amp; Blackhawk St</td>\n",
       "      <td>13224</td>\n",
       "      <td>Kingsbury St &amp; Kinzie St</td>\n",
       "      <td>KA1503000043</td>\n",
       "      <td>41.907066</td>\n",
       "      <td>-87.667252</td>\n",
       "      <td>41.889177</td>\n",
       "      <td>-87.638506</td>\n",
       "      <td>member</td>\n",
       "    </tr>\n",
       "    <tr>\n",
       "      <th>1</th>\n",
       "      <td>292E027607D218B6</td>\n",
       "      <td>classic_bike</td>\n",
       "      <td>2022-07-26 12:53:38</td>\n",
       "      <td>2022-07-26 12:55:31</td>\n",
       "      <td>Buckingham Fountain (Temp)</td>\n",
       "      <td>15541</td>\n",
       "      <td>Michigan Ave &amp; 8th St</td>\n",
       "      <td>623</td>\n",
       "      <td>41.869621</td>\n",
       "      <td>-87.623981</td>\n",
       "      <td>41.872773</td>\n",
       "      <td>-87.623981</td>\n",
       "      <td>casual</td>\n",
       "    </tr>\n",
       "    <tr>\n",
       "      <th>2</th>\n",
       "      <td>57765852588AD6E0</td>\n",
       "      <td>classic_bike</td>\n",
       "      <td>2022-07-03 13:58:49</td>\n",
       "      <td>2022-07-03 14:06:32</td>\n",
       "      <td>Buckingham Fountain (Temp)</td>\n",
       "      <td>15541</td>\n",
       "      <td>Michigan Ave &amp; 8th St</td>\n",
       "      <td>623</td>\n",
       "      <td>41.869621</td>\n",
       "      <td>-87.623981</td>\n",
       "      <td>41.872773</td>\n",
       "      <td>-87.623981</td>\n",
       "      <td>casual</td>\n",
       "    </tr>\n",
       "    <tr>\n",
       "      <th>3</th>\n",
       "      <td>B5B6BE44314590E6</td>\n",
       "      <td>classic_bike</td>\n",
       "      <td>2022-07-31 17:44:21</td>\n",
       "      <td>2022-07-31 18:42:50</td>\n",
       "      <td>Buckingham Fountain (Temp)</td>\n",
       "      <td>15541</td>\n",
       "      <td>Woodlawn Ave &amp; 55th St</td>\n",
       "      <td>TA1307000164</td>\n",
       "      <td>41.869621</td>\n",
       "      <td>-87.623981</td>\n",
       "      <td>41.795264</td>\n",
       "      <td>-87.596471</td>\n",
       "      <td>casual</td>\n",
       "    </tr>\n",
       "    <tr>\n",
       "      <th>4</th>\n",
       "      <td>A4C331F2A00E79E0</td>\n",
       "      <td>classic_bike</td>\n",
       "      <td>2022-07-13 19:49:06</td>\n",
       "      <td>2022-07-13 20:15:24</td>\n",
       "      <td>Wabash Ave &amp; Grand Ave</td>\n",
       "      <td>TA1307000117</td>\n",
       "      <td>Sheffield Ave &amp; Wellington Ave</td>\n",
       "      <td>TA1307000052</td>\n",
       "      <td>41.891466</td>\n",
       "      <td>-87.626761</td>\n",
       "      <td>41.936253</td>\n",
       "      <td>-87.652662</td>\n",
       "      <td>member</td>\n",
       "    </tr>\n",
       "  </tbody>\n",
       "</table>\n",
       "</div>"
      ],
      "text/plain": [
       "            ride_id rideable_type           started_at             ended_at  \\\n",
       "0  954144C2F67B1932  classic_bike  2022-07-05 08:12:47  2022-07-05 08:24:32   \n",
       "1  292E027607D218B6  classic_bike  2022-07-26 12:53:38  2022-07-26 12:55:31   \n",
       "2  57765852588AD6E0  classic_bike  2022-07-03 13:58:49  2022-07-03 14:06:32   \n",
       "3  B5B6BE44314590E6  classic_bike  2022-07-31 17:44:21  2022-07-31 18:42:50   \n",
       "4  A4C331F2A00E79E0  classic_bike  2022-07-13 19:49:06  2022-07-13 20:15:24   \n",
       "\n",
       "           start_station_name start_station_id  \\\n",
       "0  Ashland Ave & Blackhawk St            13224   \n",
       "1  Buckingham Fountain (Temp)            15541   \n",
       "2  Buckingham Fountain (Temp)            15541   \n",
       "3  Buckingham Fountain (Temp)            15541   \n",
       "4      Wabash Ave & Grand Ave     TA1307000117   \n",
       "\n",
       "                 end_station_name end_station_id  start_lat  start_lng  \\\n",
       "0        Kingsbury St & Kinzie St   KA1503000043  41.907066 -87.667252   \n",
       "1           Michigan Ave & 8th St            623  41.869621 -87.623981   \n",
       "2           Michigan Ave & 8th St            623  41.869621 -87.623981   \n",
       "3          Woodlawn Ave & 55th St   TA1307000164  41.869621 -87.623981   \n",
       "4  Sheffield Ave & Wellington Ave   TA1307000052  41.891466 -87.626761   \n",
       "\n",
       "     end_lat    end_lng member_casual  \n",
       "0  41.889177 -87.638506        member  \n",
       "1  41.872773 -87.623981        casual  \n",
       "2  41.872773 -87.623981        casual  \n",
       "3  41.795264 -87.596471        casual  \n",
       "4  41.936253 -87.652662        member  "
      ]
     },
     "execution_count": 8,
     "metadata": {},
     "output_type": "execute_result"
    }
   ],
   "source": [
    "dts.head()"
   ]
  },
  {
   "cell_type": "code",
   "execution_count": 9,
   "id": "7ee21cd2",
   "metadata": {
    "execution": {
     "iopub.execute_input": "2023-07-10T08:04:57.243148Z",
     "iopub.status.busy": "2023-07-10T08:04:57.242117Z",
     "iopub.status.idle": "2023-07-10T08:04:57.261910Z",
     "shell.execute_reply": "2023-07-10T08:04:57.260440Z"
    },
    "papermill": {
     "duration": 0.032012,
     "end_time": "2023-07-10T08:04:57.263887",
     "exception": false,
     "start_time": "2023-07-10T08:04:57.231875",
     "status": "completed"
    },
    "tags": []
   },
   "outputs": [
    {
     "name": "stdout",
     "output_type": "stream",
     "text": [
      "<class 'pandas.core.frame.DataFrame'>\n",
      "Int64Index: 5829030 entries, 0 to 337734\n",
      "Data columns (total 13 columns):\n",
      " #   Column              Dtype  \n",
      "---  ------              -----  \n",
      " 0   ride_id             object \n",
      " 1   rideable_type       object \n",
      " 2   started_at          object \n",
      " 3   ended_at            object \n",
      " 4   start_station_name  object \n",
      " 5   start_station_id    object \n",
      " 6   end_station_name    object \n",
      " 7   end_station_id      object \n",
      " 8   start_lat           float64\n",
      " 9   start_lng           float64\n",
      " 10  end_lat             float64\n",
      " 11  end_lng             float64\n",
      " 12  member_casual       object \n",
      "dtypes: float64(4), object(9)\n",
      "memory usage: 622.6+ MB\n"
     ]
    }
   ],
   "source": [
    "dts.info()"
   ]
  },
  {
   "cell_type": "markdown",
   "id": "f3eb8a86",
   "metadata": {
    "papermill": {
     "duration": 0.009043,
     "end_time": "2023-07-10T08:04:57.282371",
     "exception": false,
     "start_time": "2023-07-10T08:04:57.273328",
     "status": "completed"
    },
    "tags": []
   },
   "source": [
    "Looking at the dts.info() output, I can see that I will probably not use some columns, so I can drop them. I also think that some values are not in the correct format, so I will probably also try to solve that."
   ]
  },
  {
   "cell_type": "code",
   "execution_count": 10,
   "id": "6b49d4b2",
   "metadata": {
    "execution": {
     "iopub.execute_input": "2023-07-10T08:04:57.303935Z",
     "iopub.status.busy": "2023-07-10T08:04:57.303595Z",
     "iopub.status.idle": "2023-07-10T08:04:57.804180Z",
     "shell.execute_reply": "2023-07-10T08:04:57.802741Z"
    },
    "papermill": {
     "duration": 0.515247,
     "end_time": "2023-07-10T08:04:57.807279",
     "exception": false,
     "start_time": "2023-07-10T08:04:57.292032",
     "status": "completed"
    },
    "tags": []
   },
   "outputs": [],
   "source": [
    "to_drop = [\"start_lat\", \"start_lng\", \"end_lat\", \"end_lng\"]\n",
    "\n",
    "dts_1 = dts #copied the dataset so we do not modify the original one\n",
    "dts_1.head()\n",
    "dts_1.drop(to_drop, axis = 1, inplace = True) #drop columns that are not used."
   ]
  },
  {
   "cell_type": "code",
   "execution_count": 11,
   "id": "5f8ac07d",
   "metadata": {
    "execution": {
     "iopub.execute_input": "2023-07-10T08:04:57.827284Z",
     "iopub.status.busy": "2023-07-10T08:04:57.826947Z",
     "iopub.status.idle": "2023-07-10T08:05:04.504782Z",
     "shell.execute_reply": "2023-07-10T08:05:04.502966Z"
    },
    "papermill": {
     "duration": 6.690857,
     "end_time": "2023-07-10T08:05:04.507408",
     "exception": false,
     "start_time": "2023-07-10T08:04:57.816551",
     "status": "completed"
    },
    "tags": []
   },
   "outputs": [
    {
     "name": "stdout",
     "output_type": "stream",
     "text": [
      "ride_id                    0\n",
      "rideable_type              0\n",
      "started_at                 0\n",
      "ended_at                   0\n",
      "start_station_name    834545\n",
      "start_station_id      834677\n",
      "end_station_name      891757\n",
      "end_station_id        891898\n",
      "member_casual              0\n",
      "dtype: int64\n"
     ]
    }
   ],
   "source": [
    "print(dts_1.isnull().sum()) #there are a lot of NA in the dataset "
   ]
  },
  {
   "cell_type": "code",
   "execution_count": 12,
   "id": "cf50a0eb",
   "metadata": {
    "execution": {
     "iopub.execute_input": "2023-07-10T08:05:04.527897Z",
     "iopub.status.busy": "2023-07-10T08:05:04.527554Z",
     "iopub.status.idle": "2023-07-10T08:05:11.168102Z",
     "shell.execute_reply": "2023-07-10T08:05:11.167209Z"
    },
    "papermill": {
     "duration": 6.653066,
     "end_time": "2023-07-10T08:05:11.170018",
     "exception": false,
     "start_time": "2023-07-10T08:05:04.516952",
     "status": "completed"
    },
    "tags": []
   },
   "outputs": [
    {
     "name": "stdout",
     "output_type": "stream",
     "text": [
      "ride_id               5829030\n",
      "rideable_type         5829030\n",
      "started_at            5829030\n",
      "ended_at              5829030\n",
      "start_station_name    4994485\n",
      "start_station_id      4994353\n",
      "end_station_name      4937273\n",
      "end_station_id        4937132\n",
      "member_casual         5829030\n",
      "dtype: int64\n"
     ]
    }
   ],
   "source": [
    "print(dts_1.notnull().sum()) #let's also check for not null, to be sure"
   ]
  },
  {
   "cell_type": "markdown",
   "id": "5b4b78bd",
   "metadata": {
    "papermill": {
     "duration": 0.008597,
     "end_time": "2023-07-10T08:05:11.187944",
     "exception": false,
     "start_time": "2023-07-10T08:05:11.179347",
     "status": "completed"
    },
    "tags": []
   },
   "source": [
    "Since I know that there are some N/A values, let's drop those rows, because they are lacking some info and it's probably safer to remove them than to keep them."
   ]
  },
  {
   "cell_type": "code",
   "execution_count": 13,
   "id": "526e0cd8",
   "metadata": {
    "execution": {
     "iopub.execute_input": "2023-07-10T08:05:11.207611Z",
     "iopub.status.busy": "2023-07-10T08:05:11.207228Z",
     "iopub.status.idle": "2023-07-10T08:05:25.848355Z",
     "shell.execute_reply": "2023-07-10T08:05:25.847006Z"
    },
    "papermill": {
     "duration": 14.653476,
     "end_time": "2023-07-10T08:05:25.850396",
     "exception": false,
     "start_time": "2023-07-10T08:05:11.196920",
     "status": "completed"
    },
    "tags": []
   },
   "outputs": [
    {
     "data": {
      "text/plain": [
       "ride_id               0\n",
       "rideable_type         0\n",
       "started_at            0\n",
       "ended_at              0\n",
       "start_station_name    0\n",
       "start_station_id      0\n",
       "end_station_name      0\n",
       "end_station_id        0\n",
       "member_casual         0\n",
       "dtype: int64"
      ]
     },
     "execution_count": 13,
     "metadata": {},
     "output_type": "execute_result"
    }
   ],
   "source": [
    "dts_1.dropna(inplace = True) #drop NA values\n",
    "dts_1.isnull().sum()"
   ]
  },
  {
   "cell_type": "code",
   "execution_count": 14,
   "id": "a8db0c4e",
   "metadata": {
    "execution": {
     "iopub.execute_input": "2023-07-10T08:05:25.871765Z",
     "iopub.status.busy": "2023-07-10T08:05:25.870557Z",
     "iopub.status.idle": "2023-07-10T08:05:37.938109Z",
     "shell.execute_reply": "2023-07-10T08:05:37.936543Z"
    },
    "papermill": {
     "duration": 12.08013,
     "end_time": "2023-07-10T08:05:37.940119",
     "exception": false,
     "start_time": "2023-07-10T08:05:25.859989",
     "status": "completed"
    },
    "tags": []
   },
   "outputs": [
    {
     "name": "stdout",
     "output_type": "stream",
     "text": [
      "0\n"
     ]
    }
   ],
   "source": [
    "duplicate = dts_1[dts_1.duplicated()] #check for duplicates: there are no duplicates in the dataset.\n",
    "print(len(duplicate))\n"
   ]
  },
  {
   "cell_type": "markdown",
   "id": "fdd440c5",
   "metadata": {
    "papermill": {
     "duration": 0.008875,
     "end_time": "2023-07-10T08:05:37.958466",
     "exception": false,
     "start_time": "2023-07-10T08:05:37.949591",
     "status": "completed"
    },
    "tags": []
   },
   "source": [
    "Now that I have done a basic cleaning of the data, I will continue with creating a few new columns that will help with the analysis. I will create a column named \"ride_length\", formatted as HH:MM:SS, and a column named \"day_of_the_week\", formatted as a numeral.\n",
    "First, I have to correct the column for the start and end of ride to be a date."
   ]
  },
  {
   "cell_type": "code",
   "execution_count": 15,
   "id": "d60a8a9d",
   "metadata": {
    "execution": {
     "iopub.execute_input": "2023-07-10T08:05:37.978945Z",
     "iopub.status.busy": "2023-07-10T08:05:37.978325Z",
     "iopub.status.idle": "2023-07-10T08:05:40.002926Z",
     "shell.execute_reply": "2023-07-10T08:05:40.001935Z"
    },
    "papermill": {
     "duration": 2.037456,
     "end_time": "2023-07-10T08:05:40.005092",
     "exception": false,
     "start_time": "2023-07-10T08:05:37.967636",
     "status": "completed"
    },
    "tags": []
   },
   "outputs": [],
   "source": [
    "dts_1[\"started_at\"] = pd.to_datetime(dts_1[\"started_at\"]) #convert to datetime\n",
    "dts_1[\"ended_at\"] = pd.to_datetime(dts_1[\"ended_at\"]) #convert to datetime\n",
    "\n",
    "dts_1[\"ride_length\"] = (dts_1[\"ended_at\"]-dts_1[\"started_at\"]) #create ride_length columns"
   ]
  },
  {
   "cell_type": "code",
   "execution_count": 16,
   "id": "6c8a2d51",
   "metadata": {
    "execution": {
     "iopub.execute_input": "2023-07-10T08:05:40.025665Z",
     "iopub.status.busy": "2023-07-10T08:05:40.024833Z",
     "iopub.status.idle": "2023-07-10T08:05:40.173841Z",
     "shell.execute_reply": "2023-07-10T08:05:40.172744Z"
    },
    "papermill": {
     "duration": 0.161522,
     "end_time": "2023-07-10T08:05:40.176207",
     "exception": false,
     "start_time": "2023-07-10T08:05:40.014685",
     "status": "completed"
    },
    "tags": []
   },
   "outputs": [],
   "source": [
    "dts_1[\"day_of_the_week\"] = dts_1[\"started_at\"].dt.dayofweek+1 #create a columns with day \n",
    "                                                                #of week form 1 to 7"
   ]
  },
  {
   "cell_type": "code",
   "execution_count": 17,
   "id": "7b03505f",
   "metadata": {
    "execution": {
     "iopub.execute_input": "2023-07-10T08:05:40.195552Z",
     "iopub.status.busy": "2023-07-10T08:05:40.195220Z",
     "iopub.status.idle": "2023-07-10T08:05:40.209125Z",
     "shell.execute_reply": "2023-07-10T08:05:40.208496Z"
    },
    "papermill": {
     "duration": 0.025392,
     "end_time": "2023-07-10T08:05:40.210691",
     "exception": false,
     "start_time": "2023-07-10T08:05:40.185299",
     "status": "completed"
    },
    "tags": []
   },
   "outputs": [
    {
     "data": {
      "text/html": [
       "<div>\n",
       "<style scoped>\n",
       "    .dataframe tbody tr th:only-of-type {\n",
       "        vertical-align: middle;\n",
       "    }\n",
       "\n",
       "    .dataframe tbody tr th {\n",
       "        vertical-align: top;\n",
       "    }\n",
       "\n",
       "    .dataframe thead th {\n",
       "        text-align: right;\n",
       "    }\n",
       "</style>\n",
       "<table border=\"1\" class=\"dataframe\">\n",
       "  <thead>\n",
       "    <tr style=\"text-align: right;\">\n",
       "      <th></th>\n",
       "      <th>ride_id</th>\n",
       "      <th>rideable_type</th>\n",
       "      <th>started_at</th>\n",
       "      <th>ended_at</th>\n",
       "      <th>start_station_name</th>\n",
       "      <th>start_station_id</th>\n",
       "      <th>end_station_name</th>\n",
       "      <th>end_station_id</th>\n",
       "      <th>member_casual</th>\n",
       "      <th>ride_length</th>\n",
       "      <th>day_of_the_week</th>\n",
       "    </tr>\n",
       "  </thead>\n",
       "  <tbody>\n",
       "    <tr>\n",
       "      <th>0</th>\n",
       "      <td>954144C2F67B1932</td>\n",
       "      <td>classic_bike</td>\n",
       "      <td>2022-07-05 08:12:47</td>\n",
       "      <td>2022-07-05 08:24:32</td>\n",
       "      <td>Ashland Ave &amp; Blackhawk St</td>\n",
       "      <td>13224</td>\n",
       "      <td>Kingsbury St &amp; Kinzie St</td>\n",
       "      <td>KA1503000043</td>\n",
       "      <td>member</td>\n",
       "      <td>0 days 00:11:45</td>\n",
       "      <td>2</td>\n",
       "    </tr>\n",
       "    <tr>\n",
       "      <th>1</th>\n",
       "      <td>292E027607D218B6</td>\n",
       "      <td>classic_bike</td>\n",
       "      <td>2022-07-26 12:53:38</td>\n",
       "      <td>2022-07-26 12:55:31</td>\n",
       "      <td>Buckingham Fountain (Temp)</td>\n",
       "      <td>15541</td>\n",
       "      <td>Michigan Ave &amp; 8th St</td>\n",
       "      <td>623</td>\n",
       "      <td>casual</td>\n",
       "      <td>0 days 00:01:53</td>\n",
       "      <td>2</td>\n",
       "    </tr>\n",
       "    <tr>\n",
       "      <th>2</th>\n",
       "      <td>57765852588AD6E0</td>\n",
       "      <td>classic_bike</td>\n",
       "      <td>2022-07-03 13:58:49</td>\n",
       "      <td>2022-07-03 14:06:32</td>\n",
       "      <td>Buckingham Fountain (Temp)</td>\n",
       "      <td>15541</td>\n",
       "      <td>Michigan Ave &amp; 8th St</td>\n",
       "      <td>623</td>\n",
       "      <td>casual</td>\n",
       "      <td>0 days 00:07:43</td>\n",
       "      <td>7</td>\n",
       "    </tr>\n",
       "    <tr>\n",
       "      <th>3</th>\n",
       "      <td>B5B6BE44314590E6</td>\n",
       "      <td>classic_bike</td>\n",
       "      <td>2022-07-31 17:44:21</td>\n",
       "      <td>2022-07-31 18:42:50</td>\n",
       "      <td>Buckingham Fountain (Temp)</td>\n",
       "      <td>15541</td>\n",
       "      <td>Woodlawn Ave &amp; 55th St</td>\n",
       "      <td>TA1307000164</td>\n",
       "      <td>casual</td>\n",
       "      <td>0 days 00:58:29</td>\n",
       "      <td>7</td>\n",
       "    </tr>\n",
       "    <tr>\n",
       "      <th>4</th>\n",
       "      <td>A4C331F2A00E79E0</td>\n",
       "      <td>classic_bike</td>\n",
       "      <td>2022-07-13 19:49:06</td>\n",
       "      <td>2022-07-13 20:15:24</td>\n",
       "      <td>Wabash Ave &amp; Grand Ave</td>\n",
       "      <td>TA1307000117</td>\n",
       "      <td>Sheffield Ave &amp; Wellington Ave</td>\n",
       "      <td>TA1307000052</td>\n",
       "      <td>member</td>\n",
       "      <td>0 days 00:26:18</td>\n",
       "      <td>3</td>\n",
       "    </tr>\n",
       "  </tbody>\n",
       "</table>\n",
       "</div>"
      ],
      "text/plain": [
       "            ride_id rideable_type          started_at            ended_at  \\\n",
       "0  954144C2F67B1932  classic_bike 2022-07-05 08:12:47 2022-07-05 08:24:32   \n",
       "1  292E027607D218B6  classic_bike 2022-07-26 12:53:38 2022-07-26 12:55:31   \n",
       "2  57765852588AD6E0  classic_bike 2022-07-03 13:58:49 2022-07-03 14:06:32   \n",
       "3  B5B6BE44314590E6  classic_bike 2022-07-31 17:44:21 2022-07-31 18:42:50   \n",
       "4  A4C331F2A00E79E0  classic_bike 2022-07-13 19:49:06 2022-07-13 20:15:24   \n",
       "\n",
       "           start_station_name start_station_id  \\\n",
       "0  Ashland Ave & Blackhawk St            13224   \n",
       "1  Buckingham Fountain (Temp)            15541   \n",
       "2  Buckingham Fountain (Temp)            15541   \n",
       "3  Buckingham Fountain (Temp)            15541   \n",
       "4      Wabash Ave & Grand Ave     TA1307000117   \n",
       "\n",
       "                 end_station_name end_station_id member_casual  \\\n",
       "0        Kingsbury St & Kinzie St   KA1503000043        member   \n",
       "1           Michigan Ave & 8th St            623        casual   \n",
       "2           Michigan Ave & 8th St            623        casual   \n",
       "3          Woodlawn Ave & 55th St   TA1307000164        casual   \n",
       "4  Sheffield Ave & Wellington Ave   TA1307000052        member   \n",
       "\n",
       "      ride_length  day_of_the_week  \n",
       "0 0 days 00:11:45                2  \n",
       "1 0 days 00:01:53                2  \n",
       "2 0 days 00:07:43                7  \n",
       "3 0 days 00:58:29                7  \n",
       "4 0 days 00:26:18                3  "
      ]
     },
     "execution_count": 17,
     "metadata": {},
     "output_type": "execute_result"
    }
   ],
   "source": [
    "dts_1.head()"
   ]
  },
  {
   "cell_type": "code",
   "execution_count": 18,
   "id": "6bdee50e",
   "metadata": {
    "execution": {
     "iopub.execute_input": "2023-07-10T08:05:40.231213Z",
     "iopub.status.busy": "2023-07-10T08:05:40.230736Z",
     "iopub.status.idle": "2023-07-10T08:05:42.781043Z",
     "shell.execute_reply": "2023-07-10T08:05:42.780165Z"
    },
    "papermill": {
     "duration": 2.563167,
     "end_time": "2023-07-10T08:05:42.783478",
     "exception": false,
     "start_time": "2023-07-10T08:05:40.220311",
     "status": "completed"
    },
    "tags": []
   },
   "outputs": [
    {
     "data": {
      "text/html": [
       "<div>\n",
       "<style scoped>\n",
       "    .dataframe tbody tr th:only-of-type {\n",
       "        vertical-align: middle;\n",
       "    }\n",
       "\n",
       "    .dataframe tbody tr th {\n",
       "        vertical-align: top;\n",
       "    }\n",
       "\n",
       "    .dataframe thead th {\n",
       "        text-align: right;\n",
       "    }\n",
       "</style>\n",
       "<table border=\"1\" class=\"dataframe\">\n",
       "  <thead>\n",
       "    <tr style=\"text-align: right;\">\n",
       "      <th></th>\n",
       "      <th>ride_id</th>\n",
       "      <th>rideable_type</th>\n",
       "      <th>started_at</th>\n",
       "      <th>ended_at</th>\n",
       "      <th>start_station_name</th>\n",
       "      <th>start_station_id</th>\n",
       "      <th>end_station_name</th>\n",
       "      <th>end_station_id</th>\n",
       "      <th>member_casual</th>\n",
       "      <th>ride_length</th>\n",
       "      <th>day_of_the_week</th>\n",
       "    </tr>\n",
       "  </thead>\n",
       "  <tbody>\n",
       "    <tr>\n",
       "      <th>0</th>\n",
       "      <td>954144C2F67B1932</td>\n",
       "      <td>classic_bike</td>\n",
       "      <td>2022-07-05 08:12:47</td>\n",
       "      <td>2022-07-05 08:24:32</td>\n",
       "      <td>Ashland Ave &amp; Blackhawk St</td>\n",
       "      <td>13224</td>\n",
       "      <td>Kingsbury St &amp; Kinzie St</td>\n",
       "      <td>KA1503000043</td>\n",
       "      <td>member</td>\n",
       "      <td>0 days 00:11:45</td>\n",
       "      <td>2</td>\n",
       "    </tr>\n",
       "    <tr>\n",
       "      <th>1</th>\n",
       "      <td>292E027607D218B6</td>\n",
       "      <td>classic_bike</td>\n",
       "      <td>2022-07-26 12:53:38</td>\n",
       "      <td>2022-07-26 12:55:31</td>\n",
       "      <td>Buckingham Fountain (Temp)</td>\n",
       "      <td>15541</td>\n",
       "      <td>Michigan Ave &amp; 8th St</td>\n",
       "      <td>623</td>\n",
       "      <td>casual</td>\n",
       "      <td>0 days 00:01:53</td>\n",
       "      <td>2</td>\n",
       "    </tr>\n",
       "    <tr>\n",
       "      <th>2</th>\n",
       "      <td>57765852588AD6E0</td>\n",
       "      <td>classic_bike</td>\n",
       "      <td>2022-07-03 13:58:49</td>\n",
       "      <td>2022-07-03 14:06:32</td>\n",
       "      <td>Buckingham Fountain (Temp)</td>\n",
       "      <td>15541</td>\n",
       "      <td>Michigan Ave &amp; 8th St</td>\n",
       "      <td>623</td>\n",
       "      <td>casual</td>\n",
       "      <td>0 days 00:07:43</td>\n",
       "      <td>7</td>\n",
       "    </tr>\n",
       "    <tr>\n",
       "      <th>3</th>\n",
       "      <td>B5B6BE44314590E6</td>\n",
       "      <td>classic_bike</td>\n",
       "      <td>2022-07-31 17:44:21</td>\n",
       "      <td>2022-07-31 18:42:50</td>\n",
       "      <td>Buckingham Fountain (Temp)</td>\n",
       "      <td>15541</td>\n",
       "      <td>Woodlawn Ave &amp; 55th St</td>\n",
       "      <td>TA1307000164</td>\n",
       "      <td>casual</td>\n",
       "      <td>0 days 00:58:29</td>\n",
       "      <td>7</td>\n",
       "    </tr>\n",
       "    <tr>\n",
       "      <th>4</th>\n",
       "      <td>A4C331F2A00E79E0</td>\n",
       "      <td>classic_bike</td>\n",
       "      <td>2022-07-13 19:49:06</td>\n",
       "      <td>2022-07-13 20:15:24</td>\n",
       "      <td>Wabash Ave &amp; Grand Ave</td>\n",
       "      <td>TA1307000117</td>\n",
       "      <td>Sheffield Ave &amp; Wellington Ave</td>\n",
       "      <td>TA1307000052</td>\n",
       "      <td>member</td>\n",
       "      <td>0 days 00:26:18</td>\n",
       "      <td>3</td>\n",
       "    </tr>\n",
       "    <tr>\n",
       "      <th>...</th>\n",
       "      <td>...</td>\n",
       "      <td>...</td>\n",
       "      <td>...</td>\n",
       "      <td>...</td>\n",
       "      <td>...</td>\n",
       "      <td>...</td>\n",
       "      <td>...</td>\n",
       "      <td>...</td>\n",
       "      <td>...</td>\n",
       "      <td>...</td>\n",
       "      <td>...</td>\n",
       "    </tr>\n",
       "    <tr>\n",
       "      <th>337727</th>\n",
       "      <td>03005DDB0F2F28E4</td>\n",
       "      <td>classic_bike</td>\n",
       "      <td>2022-11-09 14:22:29</td>\n",
       "      <td>2022-11-09 14:25:18</td>\n",
       "      <td>Clifton Ave &amp; Armitage Ave</td>\n",
       "      <td>TA1307000163</td>\n",
       "      <td>Sheffield Ave &amp; Webster Ave</td>\n",
       "      <td>TA1309000033</td>\n",
       "      <td>member</td>\n",
       "      <td>0 days 00:02:49</td>\n",
       "      <td>3</td>\n",
       "    </tr>\n",
       "    <tr>\n",
       "      <th>337731</th>\n",
       "      <td>B0B4E85DA43A9194</td>\n",
       "      <td>classic_bike</td>\n",
       "      <td>2022-11-22 16:57:53</td>\n",
       "      <td>2022-11-22 17:31:29</td>\n",
       "      <td>Franklin St &amp; Jackson Blvd</td>\n",
       "      <td>TA1305000025</td>\n",
       "      <td>Sheffield Ave &amp; Wrightwood Ave</td>\n",
       "      <td>TA1309000023</td>\n",
       "      <td>casual</td>\n",
       "      <td>0 days 00:33:36</td>\n",
       "      <td>2</td>\n",
       "    </tr>\n",
       "    <tr>\n",
       "      <th>337732</th>\n",
       "      <td>8D148DD47B59530B</td>\n",
       "      <td>classic_bike</td>\n",
       "      <td>2022-11-06 13:04:05</td>\n",
       "      <td>2022-11-06 13:13:33</td>\n",
       "      <td>Michigan Ave &amp; Ida B Wells Dr</td>\n",
       "      <td>TA1305000010</td>\n",
       "      <td>Shedd Aquarium</td>\n",
       "      <td>15544</td>\n",
       "      <td>casual</td>\n",
       "      <td>0 days 00:09:28</td>\n",
       "      <td>7</td>\n",
       "    </tr>\n",
       "    <tr>\n",
       "      <th>337733</th>\n",
       "      <td>0D1170BA18FD33D1</td>\n",
       "      <td>classic_bike</td>\n",
       "      <td>2022-11-06 09:41:29</td>\n",
       "      <td>2022-11-06 15:17:17</td>\n",
       "      <td>Halsted St &amp; 18th St</td>\n",
       "      <td>13099</td>\n",
       "      <td>Shedd Aquarium</td>\n",
       "      <td>15544</td>\n",
       "      <td>casual</td>\n",
       "      <td>0 days 05:35:48</td>\n",
       "      <td>7</td>\n",
       "    </tr>\n",
       "    <tr>\n",
       "      <th>337734</th>\n",
       "      <td>09B20DC75B5EA1E0</td>\n",
       "      <td>electric_bike</td>\n",
       "      <td>2022-11-26 11:59:28</td>\n",
       "      <td>2022-11-26 12:31:04</td>\n",
       "      <td>Michigan Ave &amp; Ida B Wells Dr</td>\n",
       "      <td>TA1305000010</td>\n",
       "      <td>Shedd Aquarium</td>\n",
       "      <td>15544</td>\n",
       "      <td>casual</td>\n",
       "      <td>0 days 00:31:36</td>\n",
       "      <td>6</td>\n",
       "    </tr>\n",
       "  </tbody>\n",
       "</table>\n",
       "<p>4080728 rows × 11 columns</p>\n",
       "</div>"
      ],
      "text/plain": [
       "                 ride_id  rideable_type          started_at  \\\n",
       "0       954144C2F67B1932   classic_bike 2022-07-05 08:12:47   \n",
       "1       292E027607D218B6   classic_bike 2022-07-26 12:53:38   \n",
       "2       57765852588AD6E0   classic_bike 2022-07-03 13:58:49   \n",
       "3       B5B6BE44314590E6   classic_bike 2022-07-31 17:44:21   \n",
       "4       A4C331F2A00E79E0   classic_bike 2022-07-13 19:49:06   \n",
       "...                  ...            ...                 ...   \n",
       "337727  03005DDB0F2F28E4   classic_bike 2022-11-09 14:22:29   \n",
       "337731  B0B4E85DA43A9194   classic_bike 2022-11-22 16:57:53   \n",
       "337732  8D148DD47B59530B   classic_bike 2022-11-06 13:04:05   \n",
       "337733  0D1170BA18FD33D1   classic_bike 2022-11-06 09:41:29   \n",
       "337734  09B20DC75B5EA1E0  electric_bike 2022-11-26 11:59:28   \n",
       "\n",
       "                  ended_at             start_station_name start_station_id  \\\n",
       "0      2022-07-05 08:24:32     Ashland Ave & Blackhawk St            13224   \n",
       "1      2022-07-26 12:55:31     Buckingham Fountain (Temp)            15541   \n",
       "2      2022-07-03 14:06:32     Buckingham Fountain (Temp)            15541   \n",
       "3      2022-07-31 18:42:50     Buckingham Fountain (Temp)            15541   \n",
       "4      2022-07-13 20:15:24         Wabash Ave & Grand Ave     TA1307000117   \n",
       "...                    ...                            ...              ...   \n",
       "337727 2022-11-09 14:25:18     Clifton Ave & Armitage Ave     TA1307000163   \n",
       "337731 2022-11-22 17:31:29     Franklin St & Jackson Blvd     TA1305000025   \n",
       "337732 2022-11-06 13:13:33  Michigan Ave & Ida B Wells Dr     TA1305000010   \n",
       "337733 2022-11-06 15:17:17           Halsted St & 18th St            13099   \n",
       "337734 2022-11-26 12:31:04  Michigan Ave & Ida B Wells Dr     TA1305000010   \n",
       "\n",
       "                      end_station_name end_station_id member_casual  \\\n",
       "0             Kingsbury St & Kinzie St   KA1503000043        member   \n",
       "1                Michigan Ave & 8th St            623        casual   \n",
       "2                Michigan Ave & 8th St            623        casual   \n",
       "3               Woodlawn Ave & 55th St   TA1307000164        casual   \n",
       "4       Sheffield Ave & Wellington Ave   TA1307000052        member   \n",
       "...                                ...            ...           ...   \n",
       "337727     Sheffield Ave & Webster Ave   TA1309000033        member   \n",
       "337731  Sheffield Ave & Wrightwood Ave   TA1309000023        casual   \n",
       "337732                  Shedd Aquarium          15544        casual   \n",
       "337733                  Shedd Aquarium          15544        casual   \n",
       "337734                  Shedd Aquarium          15544        casual   \n",
       "\n",
       "           ride_length  day_of_the_week  \n",
       "0      0 days 00:11:45                2  \n",
       "1      0 days 00:01:53                2  \n",
       "2      0 days 00:07:43                7  \n",
       "3      0 days 00:58:29                7  \n",
       "4      0 days 00:26:18                3  \n",
       "...                ...              ...  \n",
       "337727 0 days 00:02:49                3  \n",
       "337731 0 days 00:33:36                2  \n",
       "337732 0 days 00:09:28                7  \n",
       "337733 0 days 05:35:48                7  \n",
       "337734 0 days 00:31:36                6  \n",
       "\n",
       "[4080728 rows x 11 columns]"
      ]
     },
     "execution_count": 18,
     "metadata": {},
     "output_type": "execute_result"
    }
   ],
   "source": [
    "#apparently some data for ride_length are negative and some values are over 1 day. I will \n",
    "#remove the data lower than 30 seconds and remove the data over 1 day.\n",
    "\n",
    "dts_1.drop(dts_1[dts_1[\"ride_length\"] < pd.Timedelta(seconds = 30)].index, inplace = True)\n",
    "dts_1.drop(dts_1[dts_1[\"ride_length\"] > pd.Timedelta(days = 1)].index, inplace = True)\n",
    "dts_1"
   ]
  },
  {
   "cell_type": "markdown",
   "id": "770e7c01",
   "metadata": {
    "papermill": {
     "duration": 0.009462,
     "end_time": "2023-07-10T08:05:42.803276",
     "exception": false,
     "start_time": "2023-07-10T08:05:42.793814",
     "status": "completed"
    },
    "tags": []
   },
   "source": [
    "I think that for the moment the cleaning of the data is complete.\n",
    "\n",
    "### Deliverables\n",
    "Documentation of any cleaning or manipulation of data.\n",
    "\n",
    "I took the steps above to check and clean the dataset.\n",
    "\n",
    "# Analyze\n",
    "\n",
    "Now that the data are clean, I will perform some analysis to find some insight from them and to summarize them. I used the describe() function to get some basic descriptive values."
   ]
  },
  {
   "cell_type": "code",
   "execution_count": 19,
   "id": "c232ec24",
   "metadata": {
    "execution": {
     "iopub.execute_input": "2023-07-10T08:05:42.824265Z",
     "iopub.status.busy": "2023-07-10T08:05:42.823886Z",
     "iopub.status.idle": "2023-07-10T08:05:43.021542Z",
     "shell.execute_reply": "2023-07-10T08:05:43.020177Z"
    },
    "papermill": {
     "duration": 0.211097,
     "end_time": "2023-07-10T08:05:43.024073",
     "exception": false,
     "start_time": "2023-07-10T08:05:42.812976",
     "status": "completed"
    },
    "tags": []
   },
   "outputs": [
    {
     "data": {
      "text/html": [
       "<div>\n",
       "<style scoped>\n",
       "    .dataframe tbody tr th:only-of-type {\n",
       "        vertical-align: middle;\n",
       "    }\n",
       "\n",
       "    .dataframe tbody tr th {\n",
       "        vertical-align: top;\n",
       "    }\n",
       "\n",
       "    .dataframe thead th {\n",
       "        text-align: right;\n",
       "    }\n",
       "</style>\n",
       "<table border=\"1\" class=\"dataframe\">\n",
       "  <thead>\n",
       "    <tr style=\"text-align: right;\">\n",
       "      <th></th>\n",
       "      <th>ride_length</th>\n",
       "      <th>day_of_the_week</th>\n",
       "    </tr>\n",
       "  </thead>\n",
       "  <tbody>\n",
       "    <tr>\n",
       "      <th>count</th>\n",
       "      <td>4080728</td>\n",
       "      <td>4.080728e+06</td>\n",
       "    </tr>\n",
       "    <tr>\n",
       "      <th>mean</th>\n",
       "      <td>0 days 00:16:29.552227690</td>\n",
       "      <td>4.036251e+00</td>\n",
       "    </tr>\n",
       "    <tr>\n",
       "      <th>std</th>\n",
       "      <td>0 days 00:30:36.343395356</td>\n",
       "      <td>1.952390e+00</td>\n",
       "    </tr>\n",
       "    <tr>\n",
       "      <th>min</th>\n",
       "      <td>0 days 00:00:30</td>\n",
       "      <td>1.000000e+00</td>\n",
       "    </tr>\n",
       "    <tr>\n",
       "      <th>25%</th>\n",
       "      <td>0 days 00:05:57</td>\n",
       "      <td>2.000000e+00</td>\n",
       "    </tr>\n",
       "    <tr>\n",
       "      <th>50%</th>\n",
       "      <td>0 days 00:10:20</td>\n",
       "      <td>4.000000e+00</td>\n",
       "    </tr>\n",
       "    <tr>\n",
       "      <th>75%</th>\n",
       "      <td>0 days 00:18:24</td>\n",
       "      <td>6.000000e+00</td>\n",
       "    </tr>\n",
       "    <tr>\n",
       "      <th>max</th>\n",
       "      <td>0 days 23:59:22</td>\n",
       "      <td>7.000000e+00</td>\n",
       "    </tr>\n",
       "  </tbody>\n",
       "</table>\n",
       "</div>"
      ],
      "text/plain": [
       "                     ride_length  day_of_the_week\n",
       "count                    4080728     4.080728e+06\n",
       "mean   0 days 00:16:29.552227690     4.036251e+00\n",
       "std    0 days 00:30:36.343395356     1.952390e+00\n",
       "min              0 days 00:00:30     1.000000e+00\n",
       "25%              0 days 00:05:57     2.000000e+00\n",
       "50%              0 days 00:10:20     4.000000e+00\n",
       "75%              0 days 00:18:24     6.000000e+00\n",
       "max              0 days 23:59:22     7.000000e+00"
      ]
     },
     "execution_count": 19,
     "metadata": {},
     "output_type": "execute_result"
    }
   ],
   "source": [
    "dts_1.describe()"
   ]
  },
  {
   "cell_type": "code",
   "execution_count": 20,
   "id": "84b50009",
   "metadata": {
    "execution": {
     "iopub.execute_input": "2023-07-10T08:05:43.046448Z",
     "iopub.status.busy": "2023-07-10T08:05:43.046116Z",
     "iopub.status.idle": "2023-07-10T08:05:43.273474Z",
     "shell.execute_reply": "2023-07-10T08:05:43.272185Z"
    },
    "papermill": {
     "duration": 0.240544,
     "end_time": "2023-07-10T08:05:43.275392",
     "exception": false,
     "start_time": "2023-07-10T08:05:43.034848",
     "status": "completed"
    },
    "tags": []
   },
   "outputs": [
    {
     "data": {
      "text/plain": [
       "member    60.807508\n",
       "casual    39.192492\n",
       "Name: member_casual, dtype: float64"
      ]
     },
     "execution_count": 20,
     "metadata": {},
     "output_type": "execute_result"
    }
   ],
   "source": [
    "#dts_1.groupby([\"member_casual\"]).value_counts(normalize = True)\n",
    "dts_1.member_casual.value_counts(normalize = True)*100"
   ]
  },
  {
   "cell_type": "markdown",
   "id": "93f4bc37",
   "metadata": {
    "papermill": {
     "duration": 0.009429,
     "end_time": "2023-07-10T08:05:43.294899",
     "exception": false,
     "start_time": "2023-07-10T08:05:43.285470",
     "status": "completed"
    },
    "tags": []
   },
   "source": [
    "I can see that the mean for the ride length is around 16 minutes, with the min being 30 seconds and the max being almost one day. I want to see if these values are different if I only consider casual or members. I can visualize this by using a pivot table: I will add the mean, the min and the max. I cans also see that 60% of my dataset is composed of rides from members."
   ]
  },
  {
   "cell_type": "code",
   "execution_count": 21,
   "id": "b406f423",
   "metadata": {
    "execution": {
     "iopub.execute_input": "2023-07-10T08:05:43.315836Z",
     "iopub.status.busy": "2023-07-10T08:05:43.315501Z",
     "iopub.status.idle": "2023-07-10T08:05:43.759678Z",
     "shell.execute_reply": "2023-07-10T08:05:43.758470Z"
    },
    "papermill": {
     "duration": 0.45745,
     "end_time": "2023-07-10T08:05:43.762100",
     "exception": false,
     "start_time": "2023-07-10T08:05:43.304650",
     "status": "completed"
    },
    "tags": []
   },
   "outputs": [
    {
     "data": {
      "text/html": [
       "<div>\n",
       "<style scoped>\n",
       "    .dataframe tbody tr th:only-of-type {\n",
       "        vertical-align: middle;\n",
       "    }\n",
       "\n",
       "    .dataframe tbody tr th {\n",
       "        vertical-align: top;\n",
       "    }\n",
       "\n",
       "    .dataframe thead th {\n",
       "        text-align: right;\n",
       "    }\n",
       "</style>\n",
       "<table border=\"1\" class=\"dataframe\">\n",
       "  <thead>\n",
       "    <tr style=\"text-align: right;\">\n",
       "      <th></th>\n",
       "      <th>count</th>\n",
       "      <th>max</th>\n",
       "      <th>mean</th>\n",
       "      <th>min</th>\n",
       "    </tr>\n",
       "    <tr>\n",
       "      <th>member_casual</th>\n",
       "      <th></th>\n",
       "      <th></th>\n",
       "      <th></th>\n",
       "      <th></th>\n",
       "    </tr>\n",
       "  </thead>\n",
       "  <tbody>\n",
       "    <tr>\n",
       "      <th>casual</th>\n",
       "      <td>1599339</td>\n",
       "      <td>0 days 23:59:22</td>\n",
       "      <td>0 days 00:22:52.538971412</td>\n",
       "      <td>0 days 00:00:30</td>\n",
       "    </tr>\n",
       "    <tr>\n",
       "      <th>member</th>\n",
       "      <td>2481389</td>\n",
       "      <td>0 days 23:56:20</td>\n",
       "      <td>0 days 00:12:22.704338981</td>\n",
       "      <td>0 days 00:00:30</td>\n",
       "    </tr>\n",
       "  </tbody>\n",
       "</table>\n",
       "</div>"
      ],
      "text/plain": [
       "                 count             max                      mean  \\\n",
       "member_casual                                                      \n",
       "casual         1599339 0 days 23:59:22 0 days 00:22:52.538971412   \n",
       "member         2481389 0 days 23:56:20 0 days 00:12:22.704338981   \n",
       "\n",
       "                          min  \n",
       "member_casual                  \n",
       "casual        0 days 00:00:30  \n",
       "member        0 days 00:00:30  "
      ]
     },
     "execution_count": 21,
     "metadata": {},
     "output_type": "execute_result"
    }
   ],
   "source": [
    "table_1 = pd.pivot_table(dts_1, values = \"ride_length\", index = \"member_casual\", \n",
    "                       aggfunc = {\"count\", np.mean, min, max})\n",
    "table_1"
   ]
  },
  {
   "cell_type": "markdown",
   "id": "8516924d",
   "metadata": {
    "papermill": {
     "duration": 0.010499,
     "end_time": "2023-07-10T08:05:43.783105",
     "exception": false,
     "start_time": "2023-07-10T08:05:43.772606",
     "status": "completed"
    },
    "tags": []
   },
   "source": [
    "Interestingly, the count for the members is almost double the one for the casual users. The max and the min are comparable (both probably not being very indicative), but we can see that the casual riders use the bikes in average for longer. This suggests that the members use the bikes more often, but for shorter rides. \n",
    "\n",
    "We can also check if there are differences in the behaviours related to the days of the week. "
   ]
  },
  {
   "cell_type": "code",
   "execution_count": 22,
   "id": "aa77a9f1",
   "metadata": {
    "execution": {
     "iopub.execute_input": "2023-07-10T08:05:43.805205Z",
     "iopub.status.busy": "2023-07-10T08:05:43.804874Z",
     "iopub.status.idle": "2023-07-10T08:05:44.298203Z",
     "shell.execute_reply": "2023-07-10T08:05:44.296508Z"
    },
    "papermill": {
     "duration": 0.507488,
     "end_time": "2023-07-10T08:05:44.300705",
     "exception": false,
     "start_time": "2023-07-10T08:05:43.793217",
     "status": "completed"
    },
    "tags": []
   },
   "outputs": [
    {
     "data": {
      "text/html": [
       "<div>\n",
       "<style scoped>\n",
       "    .dataframe tbody tr th:only-of-type {\n",
       "        vertical-align: middle;\n",
       "    }\n",
       "\n",
       "    .dataframe tbody tr th {\n",
       "        vertical-align: top;\n",
       "    }\n",
       "\n",
       "    .dataframe thead th {\n",
       "        text-align: right;\n",
       "    }\n",
       "</style>\n",
       "<table border=\"1\" class=\"dataframe\">\n",
       "  <thead>\n",
       "    <tr style=\"text-align: right;\">\n",
       "      <th></th>\n",
       "      <th></th>\n",
       "      <th>count</th>\n",
       "      <th>mean</th>\n",
       "    </tr>\n",
       "    <tr>\n",
       "      <th>day_of_the_week</th>\n",
       "      <th>member_casual</th>\n",
       "      <th></th>\n",
       "      <th></th>\n",
       "    </tr>\n",
       "  </thead>\n",
       "  <tbody>\n",
       "    <tr>\n",
       "      <th rowspan=\"2\" valign=\"top\">1</th>\n",
       "      <th>casual</th>\n",
       "      <td>178344</td>\n",
       "      <td>0 days 00:22:48.896525815</td>\n",
       "    </tr>\n",
       "    <tr>\n",
       "      <th>member</th>\n",
       "      <td>338129</td>\n",
       "      <td>0 days 00:11:44.082462610</td>\n",
       "    </tr>\n",
       "    <tr>\n",
       "      <th rowspan=\"2\" valign=\"top\">2</th>\n",
       "      <th>casual</th>\n",
       "      <td>184642</td>\n",
       "      <td>0 days 00:20:32.758001971</td>\n",
       "    </tr>\n",
       "    <tr>\n",
       "      <th>member</th>\n",
       "      <td>396416</td>\n",
       "      <td>0 days 00:11:51.527625020</td>\n",
       "    </tr>\n",
       "    <tr>\n",
       "      <th rowspan=\"2\" valign=\"top\">3</th>\n",
       "      <th>casual</th>\n",
       "      <td>199309</td>\n",
       "      <td>0 days 00:19:48.921849991</td>\n",
       "    </tr>\n",
       "    <tr>\n",
       "      <th>member</th>\n",
       "      <td>412470</td>\n",
       "      <td>0 days 00:11:50.709304919</td>\n",
       "    </tr>\n",
       "    <tr>\n",
       "      <th rowspan=\"2\" valign=\"top\">4</th>\n",
       "      <th>casual</th>\n",
       "      <td>213812</td>\n",
       "      <td>0 days 00:20:22.566450900</td>\n",
       "    </tr>\n",
       "    <tr>\n",
       "      <th>member</th>\n",
       "      <td>398873</td>\n",
       "      <td>0 days 00:11:57.810074885</td>\n",
       "    </tr>\n",
       "    <tr>\n",
       "      <th rowspan=\"2\" valign=\"top\">5</th>\n",
       "      <th>casual</th>\n",
       "      <td>236522</td>\n",
       "      <td>0 days 00:21:57.633636617</td>\n",
       "    </tr>\n",
       "    <tr>\n",
       "      <th>member</th>\n",
       "      <td>349625</td>\n",
       "      <td>0 days 00:12:11.585049696</td>\n",
       "    </tr>\n",
       "    <tr>\n",
       "      <th rowspan=\"2\" valign=\"top\">6</th>\n",
       "      <th>casual</th>\n",
       "      <td>321613</td>\n",
       "      <td>0 days 00:25:36.751602080</td>\n",
       "    </tr>\n",
       "    <tr>\n",
       "      <th>member</th>\n",
       "      <td>311049</td>\n",
       "      <td>0 days 00:13:54.231336541</td>\n",
       "    </tr>\n",
       "    <tr>\n",
       "      <th rowspan=\"2\" valign=\"top\">7</th>\n",
       "      <th>casual</th>\n",
       "      <td>265097</td>\n",
       "      <td>0 days 00:26:21.122690939</td>\n",
       "    </tr>\n",
       "    <tr>\n",
       "      <th>member</th>\n",
       "      <td>274827</td>\n",
       "      <td>0 days 00:13:49.897251725</td>\n",
       "    </tr>\n",
       "  </tbody>\n",
       "</table>\n",
       "</div>"
      ],
      "text/plain": [
       "                                count                      mean\n",
       "day_of_the_week member_casual                                  \n",
       "1               casual         178344 0 days 00:22:48.896525815\n",
       "                member         338129 0 days 00:11:44.082462610\n",
       "2               casual         184642 0 days 00:20:32.758001971\n",
       "                member         396416 0 days 00:11:51.527625020\n",
       "3               casual         199309 0 days 00:19:48.921849991\n",
       "                member         412470 0 days 00:11:50.709304919\n",
       "4               casual         213812 0 days 00:20:22.566450900\n",
       "                member         398873 0 days 00:11:57.810074885\n",
       "5               casual         236522 0 days 00:21:57.633636617\n",
       "                member         349625 0 days 00:12:11.585049696\n",
       "6               casual         321613 0 days 00:25:36.751602080\n",
       "                member         311049 0 days 00:13:54.231336541\n",
       "7               casual         265097 0 days 00:26:21.122690939\n",
       "                member         274827 0 days 00:13:49.897251725"
      ]
     },
     "execution_count": 22,
     "metadata": {},
     "output_type": "execute_result"
    }
   ],
   "source": [
    "table_2 = pd.pivot_table(dts_1, values = \"ride_length\", index = [\"day_of_the_week\",\"member_casual\"], \n",
    "                       aggfunc = {\"count\", np.mean})\n",
    "table_2"
   ]
  },
  {
   "cell_type": "markdown",
   "id": "60608335",
   "metadata": {
    "papermill": {
     "duration": 0.009807,
     "end_time": "2023-07-10T08:05:44.321082",
     "exception": false,
     "start_time": "2023-07-10T08:05:44.311275",
     "status": "completed"
    },
    "tags": []
   },
   "source": [
    "As could have been expected, the members use the bikes more than the casual riders during the week, while the usage is comparable during the weekends. \n",
    "\n",
    "I also want to analyze the trends related to the time of the year."
   ]
  },
  {
   "cell_type": "code",
   "execution_count": 23,
   "id": "098c2758",
   "metadata": {
    "execution": {
     "iopub.execute_input": "2023-07-10T08:05:44.343511Z",
     "iopub.status.busy": "2023-07-10T08:05:44.343094Z",
     "iopub.status.idle": "2023-07-10T08:05:44.827880Z",
     "shell.execute_reply": "2023-07-10T08:05:44.826411Z"
    },
    "papermill": {
     "duration": 0.49922,
     "end_time": "2023-07-10T08:05:44.830438",
     "exception": false,
     "start_time": "2023-07-10T08:05:44.331218",
     "status": "completed"
    },
    "tags": []
   },
   "outputs": [
    {
     "data": {
      "text/html": [
       "<div>\n",
       "<style scoped>\n",
       "    .dataframe tbody tr th:only-of-type {\n",
       "        vertical-align: middle;\n",
       "    }\n",
       "\n",
       "    .dataframe tbody tr th {\n",
       "        vertical-align: top;\n",
       "    }\n",
       "\n",
       "    .dataframe thead th {\n",
       "        text-align: right;\n",
       "    }\n",
       "</style>\n",
       "<table border=\"1\" class=\"dataframe\">\n",
       "  <thead>\n",
       "    <tr style=\"text-align: right;\">\n",
       "      <th>member_casual</th>\n",
       "      <th>casual</th>\n",
       "      <th>member</th>\n",
       "    </tr>\n",
       "    <tr>\n",
       "      <th>started_at</th>\n",
       "      <th></th>\n",
       "      <th></th>\n",
       "    </tr>\n",
       "  </thead>\n",
       "  <tbody>\n",
       "    <tr>\n",
       "      <th>1</th>\n",
       "      <td>25521</td>\n",
       "      <td>102083</td>\n",
       "    </tr>\n",
       "    <tr>\n",
       "      <th>2</th>\n",
       "      <td>28304</td>\n",
       "      <td>100495</td>\n",
       "    </tr>\n",
       "    <tr>\n",
       "      <th>3</th>\n",
       "      <td>40919</td>\n",
       "      <td>133477</td>\n",
       "    </tr>\n",
       "    <tr>\n",
       "      <th>4</th>\n",
       "      <td>99677</td>\n",
       "      <td>191664</td>\n",
       "    </tr>\n",
       "    <tr>\n",
       "      <th>5</th>\n",
       "      <td>161237</td>\n",
       "      <td>259091</td>\n",
       "    </tr>\n",
       "    <tr>\n",
       "      <th>6</th>\n",
       "      <td>269835</td>\n",
       "      <td>302654</td>\n",
       "    </tr>\n",
       "    <tr>\n",
       "      <th>7</th>\n",
       "      <td>289362</td>\n",
       "      <td>304351</td>\n",
       "    </tr>\n",
       "    <tr>\n",
       "      <th>8</th>\n",
       "      <td>251145</td>\n",
       "      <td>311210</td>\n",
       "    </tr>\n",
       "    <tr>\n",
       "      <th>9</th>\n",
       "      <td>203388</td>\n",
       "      <td>288858</td>\n",
       "    </tr>\n",
       "    <tr>\n",
       "      <th>10</th>\n",
       "      <td>137667</td>\n",
       "      <td>237892</td>\n",
       "    </tr>\n",
       "    <tr>\n",
       "      <th>11</th>\n",
       "      <td>65117</td>\n",
       "      <td>160566</td>\n",
       "    </tr>\n",
       "    <tr>\n",
       "      <th>12</th>\n",
       "      <td>27167</td>\n",
       "      <td>89048</td>\n",
       "    </tr>\n",
       "  </tbody>\n",
       "</table>\n",
       "</div>"
      ],
      "text/plain": [
       "member_casual  casual  member\n",
       "started_at                   \n",
       "1               25521  102083\n",
       "2               28304  100495\n",
       "3               40919  133477\n",
       "4               99677  191664\n",
       "5              161237  259091\n",
       "6              269835  302654\n",
       "7              289362  304351\n",
       "8              251145  311210\n",
       "9              203388  288858\n",
       "10             137667  237892\n",
       "11              65117  160566\n",
       "12              27167   89048"
      ]
     },
     "execution_count": 23,
     "metadata": {},
     "output_type": "execute_result"
    }
   ],
   "source": [
    "dts_1.groupby([dts.started_at.dt.month, \"member_casual\"])[\"started_at\"].count().unstack(fill_value=0) #unstack creates a dataframe from a multiseries\n",
    "#grouping the data for both the month of the year and the type of membership."
   ]
  },
  {
   "cell_type": "markdown",
   "id": "7513825f",
   "metadata": {
    "papermill": {
     "duration": 0.010188,
     "end_time": "2023-07-10T08:05:44.851312",
     "exception": false,
     "start_time": "2023-07-10T08:05:44.841124",
     "status": "completed"
    },
    "tags": []
   },
   "source": [
    "During the summer months people use more bikes, as expected. The use from members is always higher, and it stays much higher during the winter months. "
   ]
  },
  {
   "cell_type": "markdown",
   "id": "c584f0de",
   "metadata": {
    "papermill": {
     "duration": 0.010741,
     "end_time": "2023-07-10T08:05:44.872555",
     "exception": false,
     "start_time": "2023-07-10T08:05:44.861814",
     "status": "completed"
    },
    "tags": []
   },
   "source": [
    " # Share\n",
    " \n",
    "Now that I am defined some differences in the usage, I will create some visualizations to share my findings and make them clearer. \n",
    "\n",
    "First of all, let's start with the differences in number of rides per membership type.\n"
   ]
  },
  {
   "cell_type": "code",
   "execution_count": 24,
   "id": "442078fd",
   "metadata": {
    "execution": {
     "iopub.execute_input": "2023-07-10T08:05:44.895647Z",
     "iopub.status.busy": "2023-07-10T08:05:44.895286Z",
     "iopub.status.idle": "2023-07-10T08:05:45.218182Z",
     "shell.execute_reply": "2023-07-10T08:05:45.217480Z"
    },
    "papermill": {
     "duration": 0.33628,
     "end_time": "2023-07-10T08:05:45.220046",
     "exception": false,
     "start_time": "2023-07-10T08:05:44.883766",
     "status": "completed"
    },
    "tags": []
   },
   "outputs": [
    {
     "data": {
      "image/png": "[encoded data removed]",
      "text/plain": [
       "<Figure size 640x480 with 1 Axes>"
      ]
     },
     "metadata": {},
     "output_type": "display_data"
    }
   ],
   "source": [
    "plt.pie(dts_1.member_casual.value_counts(normalize = True), labels = [\"Members\", \"Casual riders\"], autopct='%.0f%%')\n",
    "plt.show()"
   ]
  },
  {
   "cell_type": "markdown",
   "id": "3d881a8b",
   "metadata": {
    "papermill": {
     "duration": 0.014016,
     "end_time": "2023-07-10T08:05:45.248531",
     "exception": false,
     "start_time": "2023-07-10T08:05:45.234515",
     "status": "completed"
    },
    "tags": []
   },
   "source": [
    "From the pie chart is clear that most of the rides are made by members. This is good, but there is still almost 40% of rides that are made by non-members. \n",
    "Let's focus on the differences in behaviour between members and casual riders."
   ]
  },
  {
   "cell_type": "code",
   "execution_count": 25,
   "id": "881c36dc",
   "metadata": {
    "execution": {
     "iopub.execute_input": "2023-07-10T08:05:45.279850Z",
     "iopub.status.busy": "2023-07-10T08:05:45.279303Z",
     "iopub.status.idle": "2023-07-10T08:05:45.862573Z",
     "shell.execute_reply": "2023-07-10T08:05:45.861239Z"
    },
    "papermill": {
     "duration": 0.601784,
     "end_time": "2023-07-10T08:05:45.864826",
     "exception": false,
     "start_time": "2023-07-10T08:05:45.263042",
     "status": "completed"
    },
    "tags": []
   },
   "outputs": [
    {
     "data": {
      "image/png": "[encoded data removed]",
      "text/plain": [
       "<Figure size 640x480 with 1 Axes>"
      ]
     },
     "metadata": {},
     "output_type": "display_data"
    }
   ],
   "source": [
    "table_3 = pd.pivot_table(dts_1, values = \"ride_length\", index = \"member_casual\", #I was habing trouble with this, the problem was that I was trying to make a separate \n",
    "                         aggfunc = np.mean).astype('timedelta64[m]') #graph and that the time was in seconds\n",
    "\n",
    "table_3.plot.bar(xlabel = \"Type of membership\",ylabel = \"Average length of ride (minutes)\", rot = 0)\n",
    "plt.show()"
   ]
  },
  {
   "cell_type": "markdown",
   "id": "3d9b70f6",
   "metadata": {
    "papermill": {
     "duration": 0.010798,
     "end_time": "2023-07-10T08:05:45.887765",
     "exception": false,
     "start_time": "2023-07-10T08:05:45.876967",
     "status": "completed"
    },
    "tags": []
   },
   "source": [
    "The graph shws how the average length of ride for the members is shorter than the ones for the casual riders. This suggests that members use more rides, for shorter distances. \n",
    "I can also check the behaviour of the riders when linked to the day of the week and to the season."
   ]
  },
  {
   "cell_type": "code",
   "execution_count": 26,
   "id": "40999be3",
   "metadata": {
    "execution": {
     "iopub.execute_input": "2023-07-10T08:05:45.913588Z",
     "iopub.status.busy": "2023-07-10T08:05:45.913205Z",
     "iopub.status.idle": "2023-07-10T08:05:46.587741Z",
     "shell.execute_reply": "2023-07-10T08:05:46.586599Z"
    },
    "papermill": {
     "duration": 0.69062,
     "end_time": "2023-07-10T08:05:46.590537",
     "exception": false,
     "start_time": "2023-07-10T08:05:45.899917",
     "status": "completed"
    },
    "tags": []
   },
   "outputs": [
    {
     "data": {
      "image/png": "[encoded data removed]",
      "text/plain": [
       "<Figure size 640x480 with 1 Axes>"
      ]
     },
     "metadata": {},
     "output_type": "display_data"
    }
   ],
   "source": [
    "table_4 = pd.pivot_table(dts_1, values = \"ride_length\", index = \"day_of_the_week\", columns = \"member_casual\",\n",
    "                       aggfunc = \"count\")\n",
    "\n",
    "table_4.plot.bar(xlabel = \"Day of the week\", ylabel = \"Number of rides\", rot = 0)\n",
    "plt.show()"
   ]
  },
  {
   "cell_type": "code",
   "execution_count": 27,
   "id": "4f2617ec",
   "metadata": {
    "execution": {
     "iopub.execute_input": "2023-07-10T08:05:46.617674Z",
     "iopub.status.busy": "2023-07-10T08:05:46.617304Z",
     "iopub.status.idle": "2023-07-10T08:05:47.399097Z",
     "shell.execute_reply": "2023-07-10T08:05:47.397897Z"
    },
    "papermill": {
     "duration": 0.798465,
     "end_time": "2023-07-10T08:05:47.401983",
     "exception": false,
     "start_time": "2023-07-10T08:05:46.603518",
     "status": "completed"
    },
    "tags": []
   },
   "outputs": [
    {
     "data": {
      "image/png": "[encoded data removed]",
      "text/plain": [
       "<Figure size 640x480 with 1 Axes>"
      ]
     },
     "metadata": {},
     "output_type": "display_data"
    }
   ],
   "source": [
    "dts_1.groupby([dts.started_at.dt.month, \"member_casual\"])[\"started_at\"].count().unstack(fill_value=0).plot.bar(xlabel = \"Month\",\n",
    "                                                                                                              ylabel= \"Count of rides\",\n",
    "                                                                                                              rot = 0)\n",
    "plt.show()\n"
   ]
  },
  {
   "cell_type": "markdown",
   "id": "ea3f9402",
   "metadata": {
    "papermill": {
     "duration": 0.012705,
     "end_time": "2023-07-10T08:05:47.428044",
     "exception": false,
     "start_time": "2023-07-10T08:05:47.415339",
     "status": "completed"
    },
    "tags": []
   },
   "source": [
    "From the graph of the weekdays we can see how during the week the majority of rides are made by members, while during the weekends the members seem to use the bikes less while the casual riders.\n",
    "From the distribution of rides during the year we can see that members use the bikes more consistently during the year, while casual riders mainly use them during the summer months."
   ]
  },
  {
   "cell_type": "markdown",
   "id": "8e7cc0a7",
   "metadata": {
    "papermill": {
     "duration": 0.012381,
     "end_time": "2023-07-10T08:05:47.453504",
     "exception": false,
     "start_time": "2023-07-10T08:05:47.441123",
     "status": "completed"
    },
    "tags": []
   },
   "source": [
    "# Act\n",
    "\n"
   ]
  },
  {
   "cell_type": "code",
   "execution_count": null,
   "id": "e9547daa",
   "metadata": {
    "papermill": {
     "duration": 0.012655,
     "end_time": "2023-07-10T08:05:47.478864",
     "exception": false,
     "start_time": "2023-07-10T08:05:47.466209",
     "status": "completed"
    },
    "tags": []
   },
   "outputs": [],
   "source": []
  }
 ],
 "metadata": {
  "kernelspec": {
   "display_name": "Python 3",
   "language": "python",
   "name": "python3"
  },
  "language_info": {
   "codemirror_mode": {
    "name": "ipython",
    "version": 3
   },
   "file_extension": ".py",
   "mimetype": "text/x-python",
   "name": "python",
   "nbconvert_exporter": "python",
   "pygments_lexer": "ipython3",
   "version": "3.10.10"
  },
  "papermill": {
   "default_parameters": {},
   "duration": 96.049677,
   "end_time": "2023-07-10T08:05:49.016248",
   "environment_variables": {},
   "exception": null,
   "input_path": "__notebook__.ipynb",
   "output_path": "__notebook__.ipynb",
   "parameters": {},
   "start_time": "2023-07-10T08:04:12.966571",
   "version": "2.4.0"
  }
 },
 "nbformat": 4,
 "nbformat_minor": 5
}
